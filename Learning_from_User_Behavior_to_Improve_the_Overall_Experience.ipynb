{
  "cells": [
    {
      "cell_type": "code",
      "execution_count": 2,
      "metadata": {
        "id": "3KdQcLcU8KAL"
      },
      "outputs": [],
      "source": [
        "import numpy as np\n",
        "import pandas as pd\n",
        "import matplotlib\n",
        "import matplotlib.pyplot as plt\n",
        "import datetime\n",
        "import seaborn as sb"
      ]
    },
    {
      "cell_type": "code",
      "execution_count": 3,
      "metadata": {
        "colab": {
          "base_uri": "https://localhost:8080/",
          "height": 206
        },
        "id": "WlTOCTVP8KAM",
        "outputId": "ba1bf6ec-08b9-4f7a-b1e3-1dfc9954acb2"
      },
      "outputs": [
        {
          "output_type": "execute_result",
          "data": {
            "text/plain": [
              "  Transaction_ID  Profile ID Date_of_Booking Date_of_Service_Requested Source  \\\n",
              "0          BBCHH           1      2018-05-20                2018-05-21      D   \n",
              "1          CHWFD           1      2018-09-23                2018-09-23      C   \n",
              "2          DYDMF           2      2018-11-10                2018-11-13      C   \n",
              "3          EZYSA           3      2018-04-12                2018-04-16      B   \n",
              "4          HWAKX           3      2018-08-05                2018-08-06      B   \n",
              "\n",
              "   Slot of Booking (Hour of the Day)  \n",
              "0                                 14  \n",
              "1                                  8  \n",
              "2                                 11  \n",
              "3                                  8  \n",
              "4                                 11  "
            ],
            "text/html": [
              "\n",
              "  <div id=\"df-4c5ca514-e499-4400-b335-65f198a44f7a\" class=\"colab-df-container\">\n",
              "    <div>\n",
              "<style scoped>\n",
              "    .dataframe tbody tr th:only-of-type {\n",
              "        vertical-align: middle;\n",
              "    }\n",
              "\n",
              "    .dataframe tbody tr th {\n",
              "        vertical-align: top;\n",
              "    }\n",
              "\n",
              "    .dataframe thead th {\n",
              "        text-align: right;\n",
              "    }\n",
              "</style>\n",
              "<table border=\"1\" class=\"dataframe\">\n",
              "  <thead>\n",
              "    <tr style=\"text-align: right;\">\n",
              "      <th></th>\n",
              "      <th>Transaction_ID</th>\n",
              "      <th>Profile ID</th>\n",
              "      <th>Date_of_Booking</th>\n",
              "      <th>Date_of_Service_Requested</th>\n",
              "      <th>Source</th>\n",
              "      <th>Slot of Booking (Hour of the Day)</th>\n",
              "    </tr>\n",
              "  </thead>\n",
              "  <tbody>\n",
              "    <tr>\n",
              "      <th>0</th>\n",
              "      <td>BBCHH</td>\n",
              "      <td>1</td>\n",
              "      <td>2018-05-20</td>\n",
              "      <td>2018-05-21</td>\n",
              "      <td>D</td>\n",
              "      <td>14</td>\n",
              "    </tr>\n",
              "    <tr>\n",
              "      <th>1</th>\n",
              "      <td>CHWFD</td>\n",
              "      <td>1</td>\n",
              "      <td>2018-09-23</td>\n",
              "      <td>2018-09-23</td>\n",
              "      <td>C</td>\n",
              "      <td>8</td>\n",
              "    </tr>\n",
              "    <tr>\n",
              "      <th>2</th>\n",
              "      <td>DYDMF</td>\n",
              "      <td>2</td>\n",
              "      <td>2018-11-10</td>\n",
              "      <td>2018-11-13</td>\n",
              "      <td>C</td>\n",
              "      <td>11</td>\n",
              "    </tr>\n",
              "    <tr>\n",
              "      <th>3</th>\n",
              "      <td>EZYSA</td>\n",
              "      <td>3</td>\n",
              "      <td>2018-04-12</td>\n",
              "      <td>2018-04-16</td>\n",
              "      <td>B</td>\n",
              "      <td>8</td>\n",
              "    </tr>\n",
              "    <tr>\n",
              "      <th>4</th>\n",
              "      <td>HWAKX</td>\n",
              "      <td>3</td>\n",
              "      <td>2018-08-05</td>\n",
              "      <td>2018-08-06</td>\n",
              "      <td>B</td>\n",
              "      <td>11</td>\n",
              "    </tr>\n",
              "  </tbody>\n",
              "</table>\n",
              "</div>\n",
              "    <div class=\"colab-df-buttons\">\n",
              "\n",
              "  <div class=\"colab-df-container\">\n",
              "    <button class=\"colab-df-convert\" onclick=\"convertToInteractive('df-4c5ca514-e499-4400-b335-65f198a44f7a')\"\n",
              "            title=\"Convert this dataframe to an interactive table.\"\n",
              "            style=\"display:none;\">\n",
              "\n",
              "  <svg xmlns=\"http://www.w3.org/2000/svg\" height=\"24px\" viewBox=\"0 -960 960 960\">\n",
              "    <path d=\"M120-120v-720h720v720H120Zm60-500h600v-160H180v160Zm220 220h160v-160H400v160Zm0 220h160v-160H400v160ZM180-400h160v-160H180v160Zm440 0h160v-160H620v160ZM180-180h160v-160H180v160Zm440 0h160v-160H620v160Z\"/>\n",
              "  </svg>\n",
              "    </button>\n",
              "\n",
              "  <style>\n",
              "    .colab-df-container {\n",
              "      display:flex;\n",
              "      gap: 12px;\n",
              "    }\n",
              "\n",
              "    .colab-df-convert {\n",
              "      background-color: #E8F0FE;\n",
              "      border: none;\n",
              "      border-radius: 50%;\n",
              "      cursor: pointer;\n",
              "      display: none;\n",
              "      fill: #1967D2;\n",
              "      height: 32px;\n",
              "      padding: 0 0 0 0;\n",
              "      width: 32px;\n",
              "    }\n",
              "\n",
              "    .colab-df-convert:hover {\n",
              "      background-color: #E2EBFA;\n",
              "      box-shadow: 0px 1px 2px rgba(60, 64, 67, 0.3), 0px 1px 3px 1px rgba(60, 64, 67, 0.15);\n",
              "      fill: #174EA6;\n",
              "    }\n",
              "\n",
              "    .colab-df-buttons div {\n",
              "      margin-bottom: 4px;\n",
              "    }\n",
              "\n",
              "    [theme=dark] .colab-df-convert {\n",
              "      background-color: #3B4455;\n",
              "      fill: #D2E3FC;\n",
              "    }\n",
              "\n",
              "    [theme=dark] .colab-df-convert:hover {\n",
              "      background-color: #434B5C;\n",
              "      box-shadow: 0px 1px 3px 1px rgba(0, 0, 0, 0.15);\n",
              "      filter: drop-shadow(0px 1px 2px rgba(0, 0, 0, 0.3));\n",
              "      fill: #FFFFFF;\n",
              "    }\n",
              "  </style>\n",
              "\n",
              "    <script>\n",
              "      const buttonEl =\n",
              "        document.querySelector('#df-4c5ca514-e499-4400-b335-65f198a44f7a button.colab-df-convert');\n",
              "      buttonEl.style.display =\n",
              "        google.colab.kernel.accessAllowed ? 'block' : 'none';\n",
              "\n",
              "      async function convertToInteractive(key) {\n",
              "        const element = document.querySelector('#df-4c5ca514-e499-4400-b335-65f198a44f7a');\n",
              "        const dataTable =\n",
              "          await google.colab.kernel.invokeFunction('convertToInteractive',\n",
              "                                                    [key], {});\n",
              "        if (!dataTable) return;\n",
              "\n",
              "        const docLinkHtml = 'Like what you see? Visit the ' +\n",
              "          '<a target=\"_blank\" href=https://colab.research.google.com/notebooks/data_table.ipynb>data table notebook</a>'\n",
              "          + ' to learn more about interactive tables.';\n",
              "        element.innerHTML = '';\n",
              "        dataTable['output_type'] = 'display_data';\n",
              "        await google.colab.output.renderOutput(dataTable, element);\n",
              "        const docLink = document.createElement('div');\n",
              "        docLink.innerHTML = docLinkHtml;\n",
              "        element.appendChild(docLink);\n",
              "      }\n",
              "    </script>\n",
              "  </div>\n",
              "\n",
              "\n",
              "<div id=\"df-6f7df5ee-e950-4823-92a1-e2e59ce252a5\">\n",
              "  <button class=\"colab-df-quickchart\" onclick=\"quickchart('df-6f7df5ee-e950-4823-92a1-e2e59ce252a5')\"\n",
              "            title=\"Suggest charts\"\n",
              "            style=\"display:none;\">\n",
              "\n",
              "<svg xmlns=\"http://www.w3.org/2000/svg\" height=\"24px\"viewBox=\"0 0 24 24\"\n",
              "     width=\"24px\">\n",
              "    <g>\n",
              "        <path d=\"M19 3H5c-1.1 0-2 .9-2 2v14c0 1.1.9 2 2 2h14c1.1 0 2-.9 2-2V5c0-1.1-.9-2-2-2zM9 17H7v-7h2v7zm4 0h-2V7h2v10zm4 0h-2v-4h2v4z\"/>\n",
              "    </g>\n",
              "</svg>\n",
              "  </button>\n",
              "\n",
              "<style>\n",
              "  .colab-df-quickchart {\n",
              "      --bg-color: #E8F0FE;\n",
              "      --fill-color: #1967D2;\n",
              "      --hover-bg-color: #E2EBFA;\n",
              "      --hover-fill-color: #174EA6;\n",
              "      --disabled-fill-color: #AAA;\n",
              "      --disabled-bg-color: #DDD;\n",
              "  }\n",
              "\n",
              "  [theme=dark] .colab-df-quickchart {\n",
              "      --bg-color: #3B4455;\n",
              "      --fill-color: #D2E3FC;\n",
              "      --hover-bg-color: #434B5C;\n",
              "      --hover-fill-color: #FFFFFF;\n",
              "      --disabled-bg-color: #3B4455;\n",
              "      --disabled-fill-color: #666;\n",
              "  }\n",
              "\n",
              "  .colab-df-quickchart {\n",
              "    background-color: var(--bg-color);\n",
              "    border: none;\n",
              "    border-radius: 50%;\n",
              "    cursor: pointer;\n",
              "    display: none;\n",
              "    fill: var(--fill-color);\n",
              "    height: 32px;\n",
              "    padding: 0;\n",
              "    width: 32px;\n",
              "  }\n",
              "\n",
              "  .colab-df-quickchart:hover {\n",
              "    background-color: var(--hover-bg-color);\n",
              "    box-shadow: 0 1px 2px rgba(60, 64, 67, 0.3), 0 1px 3px 1px rgba(60, 64, 67, 0.15);\n",
              "    fill: var(--button-hover-fill-color);\n",
              "  }\n",
              "\n",
              "  .colab-df-quickchart-complete:disabled,\n",
              "  .colab-df-quickchart-complete:disabled:hover {\n",
              "    background-color: var(--disabled-bg-color);\n",
              "    fill: var(--disabled-fill-color);\n",
              "    box-shadow: none;\n",
              "  }\n",
              "\n",
              "  .colab-df-spinner {\n",
              "    border: 2px solid var(--fill-color);\n",
              "    border-color: transparent;\n",
              "    border-bottom-color: var(--fill-color);\n",
              "    animation:\n",
              "      spin 1s steps(1) infinite;\n",
              "  }\n",
              "\n",
              "  @keyframes spin {\n",
              "    0% {\n",
              "      border-color: transparent;\n",
              "      border-bottom-color: var(--fill-color);\n",
              "      border-left-color: var(--fill-color);\n",
              "    }\n",
              "    20% {\n",
              "      border-color: transparent;\n",
              "      border-left-color: var(--fill-color);\n",
              "      border-top-color: var(--fill-color);\n",
              "    }\n",
              "    30% {\n",
              "      border-color: transparent;\n",
              "      border-left-color: var(--fill-color);\n",
              "      border-top-color: var(--fill-color);\n",
              "      border-right-color: var(--fill-color);\n",
              "    }\n",
              "    40% {\n",
              "      border-color: transparent;\n",
              "      border-right-color: var(--fill-color);\n",
              "      border-top-color: var(--fill-color);\n",
              "    }\n",
              "    60% {\n",
              "      border-color: transparent;\n",
              "      border-right-color: var(--fill-color);\n",
              "    }\n",
              "    80% {\n",
              "      border-color: transparent;\n",
              "      border-right-color: var(--fill-color);\n",
              "      border-bottom-color: var(--fill-color);\n",
              "    }\n",
              "    90% {\n",
              "      border-color: transparent;\n",
              "      border-bottom-color: var(--fill-color);\n",
              "    }\n",
              "  }\n",
              "</style>\n",
              "\n",
              "  <script>\n",
              "    async function quickchart(key) {\n",
              "      const quickchartButtonEl =\n",
              "        document.querySelector('#' + key + ' button');\n",
              "      quickchartButtonEl.disabled = true;  // To prevent multiple clicks.\n",
              "      quickchartButtonEl.classList.add('colab-df-spinner');\n",
              "      try {\n",
              "        const charts = await google.colab.kernel.invokeFunction(\n",
              "            'suggestCharts', [key], {});\n",
              "      } catch (error) {\n",
              "        console.error('Error during call to suggestCharts:', error);\n",
              "      }\n",
              "      quickchartButtonEl.classList.remove('colab-df-spinner');\n",
              "      quickchartButtonEl.classList.add('colab-df-quickchart-complete');\n",
              "    }\n",
              "    (() => {\n",
              "      let quickchartButtonEl =\n",
              "        document.querySelector('#df-6f7df5ee-e950-4823-92a1-e2e59ce252a5 button');\n",
              "      quickchartButtonEl.style.display =\n",
              "        google.colab.kernel.accessAllowed ? 'block' : 'none';\n",
              "    })();\n",
              "  </script>\n",
              "</div>\n",
              "\n",
              "    </div>\n",
              "  </div>\n"
            ],
            "application/vnd.google.colaboratory.intrinsic+json": {
              "type": "dataframe",
              "variable_name": "df",
              "summary": "{\n  \"name\": \"df\",\n  \"rows\": 30940,\n  \"fields\": [\n    {\n      \"column\": \"Transaction_ID\",\n      \"properties\": {\n        \"dtype\": \"string\",\n        \"num_unique_values\": 30940,\n        \"samples\": [\n          \"YYCHU\",\n          \"DRSGS\",\n          \"DHZYA\"\n        ],\n        \"semantic_type\": \"\",\n        \"description\": \"\"\n      }\n    },\n    {\n      \"column\": \"Profile ID\",\n      \"properties\": {\n        \"dtype\": \"number\",\n        \"std\": 4807,\n        \"min\": 1,\n        \"max\": 16711,\n        \"num_unique_values\": 16711,\n        \"samples\": [\n          3602,\n          11096,\n          16710\n        ],\n        \"semantic_type\": \"\",\n        \"description\": \"\"\n      }\n    },\n    {\n      \"column\": \"Date_of_Booking\",\n      \"properties\": {\n        \"dtype\": \"date\",\n        \"min\": \"2017-12-01 00:00:00\",\n        \"max\": \"2018-11-30 00:00:00\",\n        \"num_unique_values\": 365,\n        \"samples\": [\n          \"2018-07-14 00:00:00\",\n          \"2018-07-03 00:00:00\",\n          \"2018-03-21 00:00:00\"\n        ],\n        \"semantic_type\": \"\",\n        \"description\": \"\"\n      }\n    },\n    {\n      \"column\": \"Date_of_Service_Requested\",\n      \"properties\": {\n        \"dtype\": \"date\",\n        \"min\": \"2017-12-01 00:00:00\",\n        \"max\": \"2018-12-05 00:00:00\",\n        \"num_unique_values\": 370,\n        \"samples\": [\n          \"2018-05-06 00:00:00\",\n          \"2018-08-01 00:00:00\",\n          \"2018-03-25 00:00:00\"\n        ],\n        \"semantic_type\": \"\",\n        \"description\": \"\"\n      }\n    },\n    {\n      \"column\": \"Source\",\n      \"properties\": {\n        \"dtype\": \"category\",\n        \"num_unique_values\": 4,\n        \"samples\": [\n          \"C\",\n          \"A\",\n          \"D\"\n        ],\n        \"semantic_type\": \"\",\n        \"description\": \"\"\n      }\n    },\n    {\n      \"column\": \"Slot of Booking (Hour of the Day)\",\n      \"properties\": {\n        \"dtype\": \"number\",\n        \"std\": 3,\n        \"min\": 6,\n        \"max\": 19,\n        \"num_unique_values\": 14,\n        \"samples\": [\n          17,\n          12,\n          14\n        ],\n        \"semantic_type\": \"\",\n        \"description\": \"\"\n      }\n    }\n  ]\n}"
            }
          },
          "metadata": {},
          "execution_count": 3
        }
      ],
      "source": [
        "df = pd.read_excel('data.xlsx')\n",
        "df.head()"
      ]
    },
    {
      "cell_type": "code",
      "execution_count": 4,
      "metadata": {
        "colab": {
          "base_uri": "https://localhost:8080/",
          "height": 206
        },
        "id": "LkBiZrA58KAO",
        "outputId": "1ecf69c3-ff49-4ddd-d88d-b468ca96e1d4"
      },
      "outputs": [
        {
          "output_type": "execute_result",
          "data": {
            "text/plain": [
              "      Transaction_ID  Profile ID Date_of_Booking Date_of_Service_Requested  \\\n",
              "30935          FOXPU       16707      2018-09-29                2018-10-02   \n",
              "30936          ZNKAO       16708      2018-03-12                2018-03-16   \n",
              "30937          INBOS       16709      2018-01-05                2018-01-10   \n",
              "30938          CUNOS       16710      2018-02-26                2018-03-03   \n",
              "30939          DUBEV       16711      2018-04-30                2018-05-03   \n",
              "\n",
              "      Source  Slot of Booking (Hour of the Day)  \n",
              "30935      C                                 18  \n",
              "30936      A                                 13  \n",
              "30937      C                                 14  \n",
              "30938      C                                 19  \n",
              "30939      B                                 13  "
            ],
            "text/html": [
              "\n",
              "  <div id=\"df-a3f964d3-c8c3-4b4e-80fa-7fd116bc358f\" class=\"colab-df-container\">\n",
              "    <div>\n",
              "<style scoped>\n",
              "    .dataframe tbody tr th:only-of-type {\n",
              "        vertical-align: middle;\n",
              "    }\n",
              "\n",
              "    .dataframe tbody tr th {\n",
              "        vertical-align: top;\n",
              "    }\n",
              "\n",
              "    .dataframe thead th {\n",
              "        text-align: right;\n",
              "    }\n",
              "</style>\n",
              "<table border=\"1\" class=\"dataframe\">\n",
              "  <thead>\n",
              "    <tr style=\"text-align: right;\">\n",
              "      <th></th>\n",
              "      <th>Transaction_ID</th>\n",
              "      <th>Profile ID</th>\n",
              "      <th>Date_of_Booking</th>\n",
              "      <th>Date_of_Service_Requested</th>\n",
              "      <th>Source</th>\n",
              "      <th>Slot of Booking (Hour of the Day)</th>\n",
              "    </tr>\n",
              "  </thead>\n",
              "  <tbody>\n",
              "    <tr>\n",
              "      <th>30935</th>\n",
              "      <td>FOXPU</td>\n",
              "      <td>16707</td>\n",
              "      <td>2018-09-29</td>\n",
              "      <td>2018-10-02</td>\n",
              "      <td>C</td>\n",
              "      <td>18</td>\n",
              "    </tr>\n",
              "    <tr>\n",
              "      <th>30936</th>\n",
              "      <td>ZNKAO</td>\n",
              "      <td>16708</td>\n",
              "      <td>2018-03-12</td>\n",
              "      <td>2018-03-16</td>\n",
              "      <td>A</td>\n",
              "      <td>13</td>\n",
              "    </tr>\n",
              "    <tr>\n",
              "      <th>30937</th>\n",
              "      <td>INBOS</td>\n",
              "      <td>16709</td>\n",
              "      <td>2018-01-05</td>\n",
              "      <td>2018-01-10</td>\n",
              "      <td>C</td>\n",
              "      <td>14</td>\n",
              "    </tr>\n",
              "    <tr>\n",
              "      <th>30938</th>\n",
              "      <td>CUNOS</td>\n",
              "      <td>16710</td>\n",
              "      <td>2018-02-26</td>\n",
              "      <td>2018-03-03</td>\n",
              "      <td>C</td>\n",
              "      <td>19</td>\n",
              "    </tr>\n",
              "    <tr>\n",
              "      <th>30939</th>\n",
              "      <td>DUBEV</td>\n",
              "      <td>16711</td>\n",
              "      <td>2018-04-30</td>\n",
              "      <td>2018-05-03</td>\n",
              "      <td>B</td>\n",
              "      <td>13</td>\n",
              "    </tr>\n",
              "  </tbody>\n",
              "</table>\n",
              "</div>\n",
              "    <div class=\"colab-df-buttons\">\n",
              "\n",
              "  <div class=\"colab-df-container\">\n",
              "    <button class=\"colab-df-convert\" onclick=\"convertToInteractive('df-a3f964d3-c8c3-4b4e-80fa-7fd116bc358f')\"\n",
              "            title=\"Convert this dataframe to an interactive table.\"\n",
              "            style=\"display:none;\">\n",
              "\n",
              "  <svg xmlns=\"http://www.w3.org/2000/svg\" height=\"24px\" viewBox=\"0 -960 960 960\">\n",
              "    <path d=\"M120-120v-720h720v720H120Zm60-500h600v-160H180v160Zm220 220h160v-160H400v160Zm0 220h160v-160H400v160ZM180-400h160v-160H180v160Zm440 0h160v-160H620v160ZM180-180h160v-160H180v160Zm440 0h160v-160H620v160Z\"/>\n",
              "  </svg>\n",
              "    </button>\n",
              "\n",
              "  <style>\n",
              "    .colab-df-container {\n",
              "      display:flex;\n",
              "      gap: 12px;\n",
              "    }\n",
              "\n",
              "    .colab-df-convert {\n",
              "      background-color: #E8F0FE;\n",
              "      border: none;\n",
              "      border-radius: 50%;\n",
              "      cursor: pointer;\n",
              "      display: none;\n",
              "      fill: #1967D2;\n",
              "      height: 32px;\n",
              "      padding: 0 0 0 0;\n",
              "      width: 32px;\n",
              "    }\n",
              "\n",
              "    .colab-df-convert:hover {\n",
              "      background-color: #E2EBFA;\n",
              "      box-shadow: 0px 1px 2px rgba(60, 64, 67, 0.3), 0px 1px 3px 1px rgba(60, 64, 67, 0.15);\n",
              "      fill: #174EA6;\n",
              "    }\n",
              "\n",
              "    .colab-df-buttons div {\n",
              "      margin-bottom: 4px;\n",
              "    }\n",
              "\n",
              "    [theme=dark] .colab-df-convert {\n",
              "      background-color: #3B4455;\n",
              "      fill: #D2E3FC;\n",
              "    }\n",
              "\n",
              "    [theme=dark] .colab-df-convert:hover {\n",
              "      background-color: #434B5C;\n",
              "      box-shadow: 0px 1px 3px 1px rgba(0, 0, 0, 0.15);\n",
              "      filter: drop-shadow(0px 1px 2px rgba(0, 0, 0, 0.3));\n",
              "      fill: #FFFFFF;\n",
              "    }\n",
              "  </style>\n",
              "\n",
              "    <script>\n",
              "      const buttonEl =\n",
              "        document.querySelector('#df-a3f964d3-c8c3-4b4e-80fa-7fd116bc358f button.colab-df-convert');\n",
              "      buttonEl.style.display =\n",
              "        google.colab.kernel.accessAllowed ? 'block' : 'none';\n",
              "\n",
              "      async function convertToInteractive(key) {\n",
              "        const element = document.querySelector('#df-a3f964d3-c8c3-4b4e-80fa-7fd116bc358f');\n",
              "        const dataTable =\n",
              "          await google.colab.kernel.invokeFunction('convertToInteractive',\n",
              "                                                    [key], {});\n",
              "        if (!dataTable) return;\n",
              "\n",
              "        const docLinkHtml = 'Like what you see? Visit the ' +\n",
              "          '<a target=\"_blank\" href=https://colab.research.google.com/notebooks/data_table.ipynb>data table notebook</a>'\n",
              "          + ' to learn more about interactive tables.';\n",
              "        element.innerHTML = '';\n",
              "        dataTable['output_type'] = 'display_data';\n",
              "        await google.colab.output.renderOutput(dataTable, element);\n",
              "        const docLink = document.createElement('div');\n",
              "        docLink.innerHTML = docLinkHtml;\n",
              "        element.appendChild(docLink);\n",
              "      }\n",
              "    </script>\n",
              "  </div>\n",
              "\n",
              "\n",
              "<div id=\"df-5df14f96-98f7-481d-bcc8-b6cc2fbddf01\">\n",
              "  <button class=\"colab-df-quickchart\" onclick=\"quickchart('df-5df14f96-98f7-481d-bcc8-b6cc2fbddf01')\"\n",
              "            title=\"Suggest charts\"\n",
              "            style=\"display:none;\">\n",
              "\n",
              "<svg xmlns=\"http://www.w3.org/2000/svg\" height=\"24px\"viewBox=\"0 0 24 24\"\n",
              "     width=\"24px\">\n",
              "    <g>\n",
              "        <path d=\"M19 3H5c-1.1 0-2 .9-2 2v14c0 1.1.9 2 2 2h14c1.1 0 2-.9 2-2V5c0-1.1-.9-2-2-2zM9 17H7v-7h2v7zm4 0h-2V7h2v10zm4 0h-2v-4h2v4z\"/>\n",
              "    </g>\n",
              "</svg>\n",
              "  </button>\n",
              "\n",
              "<style>\n",
              "  .colab-df-quickchart {\n",
              "      --bg-color: #E8F0FE;\n",
              "      --fill-color: #1967D2;\n",
              "      --hover-bg-color: #E2EBFA;\n",
              "      --hover-fill-color: #174EA6;\n",
              "      --disabled-fill-color: #AAA;\n",
              "      --disabled-bg-color: #DDD;\n",
              "  }\n",
              "\n",
              "  [theme=dark] .colab-df-quickchart {\n",
              "      --bg-color: #3B4455;\n",
              "      --fill-color: #D2E3FC;\n",
              "      --hover-bg-color: #434B5C;\n",
              "      --hover-fill-color: #FFFFFF;\n",
              "      --disabled-bg-color: #3B4455;\n",
              "      --disabled-fill-color: #666;\n",
              "  }\n",
              "\n",
              "  .colab-df-quickchart {\n",
              "    background-color: var(--bg-color);\n",
              "    border: none;\n",
              "    border-radius: 50%;\n",
              "    cursor: pointer;\n",
              "    display: none;\n",
              "    fill: var(--fill-color);\n",
              "    height: 32px;\n",
              "    padding: 0;\n",
              "    width: 32px;\n",
              "  }\n",
              "\n",
              "  .colab-df-quickchart:hover {\n",
              "    background-color: var(--hover-bg-color);\n",
              "    box-shadow: 0 1px 2px rgba(60, 64, 67, 0.3), 0 1px 3px 1px rgba(60, 64, 67, 0.15);\n",
              "    fill: var(--button-hover-fill-color);\n",
              "  }\n",
              "\n",
              "  .colab-df-quickchart-complete:disabled,\n",
              "  .colab-df-quickchart-complete:disabled:hover {\n",
              "    background-color: var(--disabled-bg-color);\n",
              "    fill: var(--disabled-fill-color);\n",
              "    box-shadow: none;\n",
              "  }\n",
              "\n",
              "  .colab-df-spinner {\n",
              "    border: 2px solid var(--fill-color);\n",
              "    border-color: transparent;\n",
              "    border-bottom-color: var(--fill-color);\n",
              "    animation:\n",
              "      spin 1s steps(1) infinite;\n",
              "  }\n",
              "\n",
              "  @keyframes spin {\n",
              "    0% {\n",
              "      border-color: transparent;\n",
              "      border-bottom-color: var(--fill-color);\n",
              "      border-left-color: var(--fill-color);\n",
              "    }\n",
              "    20% {\n",
              "      border-color: transparent;\n",
              "      border-left-color: var(--fill-color);\n",
              "      border-top-color: var(--fill-color);\n",
              "    }\n",
              "    30% {\n",
              "      border-color: transparent;\n",
              "      border-left-color: var(--fill-color);\n",
              "      border-top-color: var(--fill-color);\n",
              "      border-right-color: var(--fill-color);\n",
              "    }\n",
              "    40% {\n",
              "      border-color: transparent;\n",
              "      border-right-color: var(--fill-color);\n",
              "      border-top-color: var(--fill-color);\n",
              "    }\n",
              "    60% {\n",
              "      border-color: transparent;\n",
              "      border-right-color: var(--fill-color);\n",
              "    }\n",
              "    80% {\n",
              "      border-color: transparent;\n",
              "      border-right-color: var(--fill-color);\n",
              "      border-bottom-color: var(--fill-color);\n",
              "    }\n",
              "    90% {\n",
              "      border-color: transparent;\n",
              "      border-bottom-color: var(--fill-color);\n",
              "    }\n",
              "  }\n",
              "</style>\n",
              "\n",
              "  <script>\n",
              "    async function quickchart(key) {\n",
              "      const quickchartButtonEl =\n",
              "        document.querySelector('#' + key + ' button');\n",
              "      quickchartButtonEl.disabled = true;  // To prevent multiple clicks.\n",
              "      quickchartButtonEl.classList.add('colab-df-spinner');\n",
              "      try {\n",
              "        const charts = await google.colab.kernel.invokeFunction(\n",
              "            'suggestCharts', [key], {});\n",
              "      } catch (error) {\n",
              "        console.error('Error during call to suggestCharts:', error);\n",
              "      }\n",
              "      quickchartButtonEl.classList.remove('colab-df-spinner');\n",
              "      quickchartButtonEl.classList.add('colab-df-quickchart-complete');\n",
              "    }\n",
              "    (() => {\n",
              "      let quickchartButtonEl =\n",
              "        document.querySelector('#df-5df14f96-98f7-481d-bcc8-b6cc2fbddf01 button');\n",
              "      quickchartButtonEl.style.display =\n",
              "        google.colab.kernel.accessAllowed ? 'block' : 'none';\n",
              "    })();\n",
              "  </script>\n",
              "</div>\n",
              "\n",
              "    </div>\n",
              "  </div>\n"
            ],
            "application/vnd.google.colaboratory.intrinsic+json": {
              "type": "dataframe",
              "summary": "{\n  \"name\": \"df\",\n  \"rows\": 5,\n  \"fields\": [\n    {\n      \"column\": \"Transaction_ID\",\n      \"properties\": {\n        \"dtype\": \"string\",\n        \"num_unique_values\": 5,\n        \"samples\": [\n          \"ZNKAO\",\n          \"DUBEV\",\n          \"INBOS\"\n        ],\n        \"semantic_type\": \"\",\n        \"description\": \"\"\n      }\n    },\n    {\n      \"column\": \"Profile ID\",\n      \"properties\": {\n        \"dtype\": \"number\",\n        \"std\": 1,\n        \"min\": 16707,\n        \"max\": 16711,\n        \"num_unique_values\": 5,\n        \"samples\": [\n          16708,\n          16711,\n          16709\n        ],\n        \"semantic_type\": \"\",\n        \"description\": \"\"\n      }\n    },\n    {\n      \"column\": \"Date_of_Booking\",\n      \"properties\": {\n        \"dtype\": \"date\",\n        \"min\": \"2018-01-05 00:00:00\",\n        \"max\": \"2018-09-29 00:00:00\",\n        \"num_unique_values\": 5,\n        \"samples\": [\n          \"2018-03-12 00:00:00\",\n          \"2018-04-30 00:00:00\",\n          \"2018-01-05 00:00:00\"\n        ],\n        \"semantic_type\": \"\",\n        \"description\": \"\"\n      }\n    },\n    {\n      \"column\": \"Date_of_Service_Requested\",\n      \"properties\": {\n        \"dtype\": \"date\",\n        \"min\": \"2018-01-10 00:00:00\",\n        \"max\": \"2018-10-02 00:00:00\",\n        \"num_unique_values\": 5,\n        \"samples\": [\n          \"2018-03-16 00:00:00\",\n          \"2018-05-03 00:00:00\",\n          \"2018-01-10 00:00:00\"\n        ],\n        \"semantic_type\": \"\",\n        \"description\": \"\"\n      }\n    },\n    {\n      \"column\": \"Source\",\n      \"properties\": {\n        \"dtype\": \"string\",\n        \"num_unique_values\": 3,\n        \"samples\": [\n          \"C\",\n          \"A\",\n          \"B\"\n        ],\n        \"semantic_type\": \"\",\n        \"description\": \"\"\n      }\n    },\n    {\n      \"column\": \"Slot of Booking (Hour of the Day)\",\n      \"properties\": {\n        \"dtype\": \"number\",\n        \"std\": 2,\n        \"min\": 13,\n        \"max\": 19,\n        \"num_unique_values\": 4,\n        \"samples\": [\n          13,\n          19,\n          18\n        ],\n        \"semantic_type\": \"\",\n        \"description\": \"\"\n      }\n    }\n  ]\n}"
            }
          },
          "metadata": {},
          "execution_count": 4
        }
      ],
      "source": [
        "df.tail()"
      ]
    },
    {
      "cell_type": "code",
      "execution_count": 5,
      "metadata": {
        "colab": {
          "base_uri": "https://localhost:8080/",
          "height": 206
        },
        "id": "lDm4Day48KAP",
        "outputId": "95bf98d0-918f-4a2d-c374-0ee2f8a2ed20"
      },
      "outputs": [
        {
          "output_type": "execute_result",
          "data": {
            "text/plain": [
              "      Transaction_ID  Profile ID Date_of_Booking Date_of_Service_Requested  \\\n",
              "25310          SAGTE       13602      2017-12-01                2017-12-03   \n",
              "14754          SRHLB        7974      2017-12-01                2017-12-03   \n",
              "10039          RJHNB        5436      2017-12-01                2017-12-06   \n",
              "3398           VGEHF        1833      2017-12-01                2017-12-02   \n",
              "22773          CHFWJ       12184      2017-12-01                2017-12-03   \n",
              "\n",
              "      Source  Slot of Booking (Hour of the Day)  \n",
              "25310      D                                 18  \n",
              "14754      A                                  8  \n",
              "10039      C                                  7  \n",
              "3398       B                                 14  \n",
              "22773      C                                 13  "
            ],
            "text/html": [
              "\n",
              "  <div id=\"df-5cfdefee-26b3-4f19-9933-3b98c6a71e79\" class=\"colab-df-container\">\n",
              "    <div>\n",
              "<style scoped>\n",
              "    .dataframe tbody tr th:only-of-type {\n",
              "        vertical-align: middle;\n",
              "    }\n",
              "\n",
              "    .dataframe tbody tr th {\n",
              "        vertical-align: top;\n",
              "    }\n",
              "\n",
              "    .dataframe thead th {\n",
              "        text-align: right;\n",
              "    }\n",
              "</style>\n",
              "<table border=\"1\" class=\"dataframe\">\n",
              "  <thead>\n",
              "    <tr style=\"text-align: right;\">\n",
              "      <th></th>\n",
              "      <th>Transaction_ID</th>\n",
              "      <th>Profile ID</th>\n",
              "      <th>Date_of_Booking</th>\n",
              "      <th>Date_of_Service_Requested</th>\n",
              "      <th>Source</th>\n",
              "      <th>Slot of Booking (Hour of the Day)</th>\n",
              "    </tr>\n",
              "  </thead>\n",
              "  <tbody>\n",
              "    <tr>\n",
              "      <th>25310</th>\n",
              "      <td>SAGTE</td>\n",
              "      <td>13602</td>\n",
              "      <td>2017-12-01</td>\n",
              "      <td>2017-12-03</td>\n",
              "      <td>D</td>\n",
              "      <td>18</td>\n",
              "    </tr>\n",
              "    <tr>\n",
              "      <th>14754</th>\n",
              "      <td>SRHLB</td>\n",
              "      <td>7974</td>\n",
              "      <td>2017-12-01</td>\n",
              "      <td>2017-12-03</td>\n",
              "      <td>A</td>\n",
              "      <td>8</td>\n",
              "    </tr>\n",
              "    <tr>\n",
              "      <th>10039</th>\n",
              "      <td>RJHNB</td>\n",
              "      <td>5436</td>\n",
              "      <td>2017-12-01</td>\n",
              "      <td>2017-12-06</td>\n",
              "      <td>C</td>\n",
              "      <td>7</td>\n",
              "    </tr>\n",
              "    <tr>\n",
              "      <th>3398</th>\n",
              "      <td>VGEHF</td>\n",
              "      <td>1833</td>\n",
              "      <td>2017-12-01</td>\n",
              "      <td>2017-12-02</td>\n",
              "      <td>B</td>\n",
              "      <td>14</td>\n",
              "    </tr>\n",
              "    <tr>\n",
              "      <th>22773</th>\n",
              "      <td>CHFWJ</td>\n",
              "      <td>12184</td>\n",
              "      <td>2017-12-01</td>\n",
              "      <td>2017-12-03</td>\n",
              "      <td>C</td>\n",
              "      <td>13</td>\n",
              "    </tr>\n",
              "  </tbody>\n",
              "</table>\n",
              "</div>\n",
              "    <div class=\"colab-df-buttons\">\n",
              "\n",
              "  <div class=\"colab-df-container\">\n",
              "    <button class=\"colab-df-convert\" onclick=\"convertToInteractive('df-5cfdefee-26b3-4f19-9933-3b98c6a71e79')\"\n",
              "            title=\"Convert this dataframe to an interactive table.\"\n",
              "            style=\"display:none;\">\n",
              "\n",
              "  <svg xmlns=\"http://www.w3.org/2000/svg\" height=\"24px\" viewBox=\"0 -960 960 960\">\n",
              "    <path d=\"M120-120v-720h720v720H120Zm60-500h600v-160H180v160Zm220 220h160v-160H400v160Zm0 220h160v-160H400v160ZM180-400h160v-160H180v160Zm440 0h160v-160H620v160ZM180-180h160v-160H180v160Zm440 0h160v-160H620v160Z\"/>\n",
              "  </svg>\n",
              "    </button>\n",
              "\n",
              "  <style>\n",
              "    .colab-df-container {\n",
              "      display:flex;\n",
              "      gap: 12px;\n",
              "    }\n",
              "\n",
              "    .colab-df-convert {\n",
              "      background-color: #E8F0FE;\n",
              "      border: none;\n",
              "      border-radius: 50%;\n",
              "      cursor: pointer;\n",
              "      display: none;\n",
              "      fill: #1967D2;\n",
              "      height: 32px;\n",
              "      padding: 0 0 0 0;\n",
              "      width: 32px;\n",
              "    }\n",
              "\n",
              "    .colab-df-convert:hover {\n",
              "      background-color: #E2EBFA;\n",
              "      box-shadow: 0px 1px 2px rgba(60, 64, 67, 0.3), 0px 1px 3px 1px rgba(60, 64, 67, 0.15);\n",
              "      fill: #174EA6;\n",
              "    }\n",
              "\n",
              "    .colab-df-buttons div {\n",
              "      margin-bottom: 4px;\n",
              "    }\n",
              "\n",
              "    [theme=dark] .colab-df-convert {\n",
              "      background-color: #3B4455;\n",
              "      fill: #D2E3FC;\n",
              "    }\n",
              "\n",
              "    [theme=dark] .colab-df-convert:hover {\n",
              "      background-color: #434B5C;\n",
              "      box-shadow: 0px 1px 3px 1px rgba(0, 0, 0, 0.15);\n",
              "      filter: drop-shadow(0px 1px 2px rgba(0, 0, 0, 0.3));\n",
              "      fill: #FFFFFF;\n",
              "    }\n",
              "  </style>\n",
              "\n",
              "    <script>\n",
              "      const buttonEl =\n",
              "        document.querySelector('#df-5cfdefee-26b3-4f19-9933-3b98c6a71e79 button.colab-df-convert');\n",
              "      buttonEl.style.display =\n",
              "        google.colab.kernel.accessAllowed ? 'block' : 'none';\n",
              "\n",
              "      async function convertToInteractive(key) {\n",
              "        const element = document.querySelector('#df-5cfdefee-26b3-4f19-9933-3b98c6a71e79');\n",
              "        const dataTable =\n",
              "          await google.colab.kernel.invokeFunction('convertToInteractive',\n",
              "                                                    [key], {});\n",
              "        if (!dataTable) return;\n",
              "\n",
              "        const docLinkHtml = 'Like what you see? Visit the ' +\n",
              "          '<a target=\"_blank\" href=https://colab.research.google.com/notebooks/data_table.ipynb>data table notebook</a>'\n",
              "          + ' to learn more about interactive tables.';\n",
              "        element.innerHTML = '';\n",
              "        dataTable['output_type'] = 'display_data';\n",
              "        await google.colab.output.renderOutput(dataTable, element);\n",
              "        const docLink = document.createElement('div');\n",
              "        docLink.innerHTML = docLinkHtml;\n",
              "        element.appendChild(docLink);\n",
              "      }\n",
              "    </script>\n",
              "  </div>\n",
              "\n",
              "\n",
              "<div id=\"df-d4f2b586-f1b4-4cad-84ab-e61da95fcb6e\">\n",
              "  <button class=\"colab-df-quickchart\" onclick=\"quickchart('df-d4f2b586-f1b4-4cad-84ab-e61da95fcb6e')\"\n",
              "            title=\"Suggest charts\"\n",
              "            style=\"display:none;\">\n",
              "\n",
              "<svg xmlns=\"http://www.w3.org/2000/svg\" height=\"24px\"viewBox=\"0 0 24 24\"\n",
              "     width=\"24px\">\n",
              "    <g>\n",
              "        <path d=\"M19 3H5c-1.1 0-2 .9-2 2v14c0 1.1.9 2 2 2h14c1.1 0 2-.9 2-2V5c0-1.1-.9-2-2-2zM9 17H7v-7h2v7zm4 0h-2V7h2v10zm4 0h-2v-4h2v4z\"/>\n",
              "    </g>\n",
              "</svg>\n",
              "  </button>\n",
              "\n",
              "<style>\n",
              "  .colab-df-quickchart {\n",
              "      --bg-color: #E8F0FE;\n",
              "      --fill-color: #1967D2;\n",
              "      --hover-bg-color: #E2EBFA;\n",
              "      --hover-fill-color: #174EA6;\n",
              "      --disabled-fill-color: #AAA;\n",
              "      --disabled-bg-color: #DDD;\n",
              "  }\n",
              "\n",
              "  [theme=dark] .colab-df-quickchart {\n",
              "      --bg-color: #3B4455;\n",
              "      --fill-color: #D2E3FC;\n",
              "      --hover-bg-color: #434B5C;\n",
              "      --hover-fill-color: #FFFFFF;\n",
              "      --disabled-bg-color: #3B4455;\n",
              "      --disabled-fill-color: #666;\n",
              "  }\n",
              "\n",
              "  .colab-df-quickchart {\n",
              "    background-color: var(--bg-color);\n",
              "    border: none;\n",
              "    border-radius: 50%;\n",
              "    cursor: pointer;\n",
              "    display: none;\n",
              "    fill: var(--fill-color);\n",
              "    height: 32px;\n",
              "    padding: 0;\n",
              "    width: 32px;\n",
              "  }\n",
              "\n",
              "  .colab-df-quickchart:hover {\n",
              "    background-color: var(--hover-bg-color);\n",
              "    box-shadow: 0 1px 2px rgba(60, 64, 67, 0.3), 0 1px 3px 1px rgba(60, 64, 67, 0.15);\n",
              "    fill: var(--button-hover-fill-color);\n",
              "  }\n",
              "\n",
              "  .colab-df-quickchart-complete:disabled,\n",
              "  .colab-df-quickchart-complete:disabled:hover {\n",
              "    background-color: var(--disabled-bg-color);\n",
              "    fill: var(--disabled-fill-color);\n",
              "    box-shadow: none;\n",
              "  }\n",
              "\n",
              "  .colab-df-spinner {\n",
              "    border: 2px solid var(--fill-color);\n",
              "    border-color: transparent;\n",
              "    border-bottom-color: var(--fill-color);\n",
              "    animation:\n",
              "      spin 1s steps(1) infinite;\n",
              "  }\n",
              "\n",
              "  @keyframes spin {\n",
              "    0% {\n",
              "      border-color: transparent;\n",
              "      border-bottom-color: var(--fill-color);\n",
              "      border-left-color: var(--fill-color);\n",
              "    }\n",
              "    20% {\n",
              "      border-color: transparent;\n",
              "      border-left-color: var(--fill-color);\n",
              "      border-top-color: var(--fill-color);\n",
              "    }\n",
              "    30% {\n",
              "      border-color: transparent;\n",
              "      border-left-color: var(--fill-color);\n",
              "      border-top-color: var(--fill-color);\n",
              "      border-right-color: var(--fill-color);\n",
              "    }\n",
              "    40% {\n",
              "      border-color: transparent;\n",
              "      border-right-color: var(--fill-color);\n",
              "      border-top-color: var(--fill-color);\n",
              "    }\n",
              "    60% {\n",
              "      border-color: transparent;\n",
              "      border-right-color: var(--fill-color);\n",
              "    }\n",
              "    80% {\n",
              "      border-color: transparent;\n",
              "      border-right-color: var(--fill-color);\n",
              "      border-bottom-color: var(--fill-color);\n",
              "    }\n",
              "    90% {\n",
              "      border-color: transparent;\n",
              "      border-bottom-color: var(--fill-color);\n",
              "    }\n",
              "  }\n",
              "</style>\n",
              "\n",
              "  <script>\n",
              "    async function quickchart(key) {\n",
              "      const quickchartButtonEl =\n",
              "        document.querySelector('#' + key + ' button');\n",
              "      quickchartButtonEl.disabled = true;  // To prevent multiple clicks.\n",
              "      quickchartButtonEl.classList.add('colab-df-spinner');\n",
              "      try {\n",
              "        const charts = await google.colab.kernel.invokeFunction(\n",
              "            'suggestCharts', [key], {});\n",
              "      } catch (error) {\n",
              "        console.error('Error during call to suggestCharts:', error);\n",
              "      }\n",
              "      quickchartButtonEl.classList.remove('colab-df-spinner');\n",
              "      quickchartButtonEl.classList.add('colab-df-quickchart-complete');\n",
              "    }\n",
              "    (() => {\n",
              "      let quickchartButtonEl =\n",
              "        document.querySelector('#df-d4f2b586-f1b4-4cad-84ab-e61da95fcb6e button');\n",
              "      quickchartButtonEl.style.display =\n",
              "        google.colab.kernel.accessAllowed ? 'block' : 'none';\n",
              "    })();\n",
              "  </script>\n",
              "</div>\n",
              "\n",
              "    </div>\n",
              "  </div>\n"
            ],
            "application/vnd.google.colaboratory.intrinsic+json": {
              "type": "dataframe",
              "variable_name": "df_sorted",
              "summary": "{\n  \"name\": \"df_sorted\",\n  \"rows\": 30940,\n  \"fields\": [\n    {\n      \"column\": \"Transaction_ID\",\n      \"properties\": {\n        \"dtype\": \"string\",\n        \"num_unique_values\": 30940,\n        \"samples\": [\n          \"IUYOD\",\n          \"YPTCZ\",\n          \"FXCHB\"\n        ],\n        \"semantic_type\": \"\",\n        \"description\": \"\"\n      }\n    },\n    {\n      \"column\": \"Profile ID\",\n      \"properties\": {\n        \"dtype\": \"number\",\n        \"std\": 4807,\n        \"min\": 1,\n        \"max\": 16711,\n        \"num_unique_values\": 16711,\n        \"samples\": [\n          15217,\n          5480,\n          12012\n        ],\n        \"semantic_type\": \"\",\n        \"description\": \"\"\n      }\n    },\n    {\n      \"column\": \"Date_of_Booking\",\n      \"properties\": {\n        \"dtype\": \"date\",\n        \"min\": \"2017-12-01 00:00:00\",\n        \"max\": \"2018-11-30 00:00:00\",\n        \"num_unique_values\": 365,\n        \"samples\": [\n          \"2018-06-12 00:00:00\",\n          \"2018-01-03 00:00:00\",\n          \"2017-12-16 00:00:00\"\n        ],\n        \"semantic_type\": \"\",\n        \"description\": \"\"\n      }\n    },\n    {\n      \"column\": \"Date_of_Service_Requested\",\n      \"properties\": {\n        \"dtype\": \"date\",\n        \"min\": \"2017-12-01 00:00:00\",\n        \"max\": \"2018-12-05 00:00:00\",\n        \"num_unique_values\": 370,\n        \"samples\": [\n          \"2018-10-24 00:00:00\",\n          \"2018-01-03 00:00:00\",\n          \"2017-12-16 00:00:00\"\n        ],\n        \"semantic_type\": \"\",\n        \"description\": \"\"\n      }\n    },\n    {\n      \"column\": \"Source\",\n      \"properties\": {\n        \"dtype\": \"category\",\n        \"num_unique_values\": 4,\n        \"samples\": [\n          \"A\",\n          \"B\",\n          \"D\"\n        ],\n        \"semantic_type\": \"\",\n        \"description\": \"\"\n      }\n    },\n    {\n      \"column\": \"Slot of Booking (Hour of the Day)\",\n      \"properties\": {\n        \"dtype\": \"number\",\n        \"std\": 3,\n        \"min\": 6,\n        \"max\": 19,\n        \"num_unique_values\": 14,\n        \"samples\": [\n          6,\n          12,\n          18\n        ],\n        \"semantic_type\": \"\",\n        \"description\": \"\"\n      }\n    }\n  ]\n}"
            }
          },
          "metadata": {},
          "execution_count": 5
        }
      ],
      "source": [
        "df_sorted = df.sort_values(\"Date_of_Booking\",axis=0, ascending= True)\n",
        "df_sorted.head()"
      ]
    },
    {
      "cell_type": "code",
      "execution_count": 6,
      "metadata": {
        "id": "7_pr5tIu8KAQ"
      },
      "outputs": [],
      "source": [
        "df_sorted['Month_of_Booking'] = pd.to_datetime(df['Date_of_Booking']).dt.to_period('M')"
      ]
    },
    {
      "cell_type": "code",
      "execution_count": 7,
      "metadata": {
        "colab": {
          "base_uri": "https://localhost:8080/"
        },
        "id": "g3pODOpN8KAQ",
        "outputId": "985d856c-6441-4a92-902f-953a62913567"
      },
      "outputs": [
        {
          "output_type": "execute_result",
          "data": {
            "text/plain": [
              "<PeriodArray>\n",
              "['2017-12', '2018-01', '2018-02', '2018-03', '2018-04', '2018-05', '2018-06',\n",
              " '2018-07', '2018-08', '2018-09', '2018-10', '2018-11']\n",
              "Length: 12, dtype: period[M]"
            ]
          },
          "metadata": {},
          "execution_count": 7
        }
      ],
      "source": [
        "df_sorted[\"Month_of_Booking\"].unique()"
      ]
    },
    {
      "cell_type": "code",
      "execution_count": 8,
      "metadata": {
        "colab": {
          "base_uri": "https://localhost:8080/",
          "height": 753
        },
        "id": "W-LK4uTi8KAR",
        "outputId": "35cafa4d-689b-4b02-b8c5-44727ed68d01"
      },
      "outputs": [
        {
          "output_type": "stream",
          "name": "stdout",
          "text": [
            "Month_of_Booking\n",
            "2017-12    2424\n",
            "2018-01    1892\n",
            "2018-02    1549\n",
            "2018-03    1490\n",
            "2018-04    1346\n",
            "2018-05    1264\n",
            "2018-06    1273\n",
            "2018-07    1208\n",
            "2018-08    1120\n",
            "2018-09    1020\n",
            "2018-10    1110\n",
            "2018-11    1015\n",
            "Freq: M, Name: Profile ID, dtype: int64\n"
          ]
        },
        {
          "output_type": "execute_result",
          "data": {
            "text/plain": [
              "<Axes: xlabel='Month_of_Booking'>"
            ]
          },
          "metadata": {},
          "execution_count": 8
        },
        {
          "output_type": "display_data",
          "data": {
            "text/plain": [
              "<Figure size 640x480 with 1 Axes>"
            ],
            "image/png": "[encoded data removed]"
          },
          "metadata": {}
        }
      ],
      "source": [
        "print(df_sorted.drop_duplicates('Profile ID',keep = 'first').groupby(\"Month_of_Booking\").agg(\"count\")[\"Profile ID\"])\n",
        "(df_sorted.drop_duplicates('Profile ID',keep = 'first').groupby(\"Month_of_Booking\").agg(\"count\")[\"Profile ID\"]).plot.bar()"
      ]
    },
    {
      "cell_type": "code",
      "execution_count": 9,
      "metadata": {
        "id": "bbtAkON38KAS"
      },
      "outputs": [],
      "source": [
        "df_unique = df_sorted.drop_duplicates('Profile ID',keep = 'first')\n",
        "df_unique_dec = df_unique[df_unique[\"Date_of_Booking\"] < '2018-01-01']"
      ]
    },
    {
      "cell_type": "markdown",
      "metadata": {
        "id": "gbiV8GVe8KAS"
      },
      "source": [
        "#### Next we follow the following step :\n",
        "FOR ALL ROWS OF DEC 2017 DATA :<br>\n",
        "&emsp; &emsp; 1. Get the dates for the next 30 days<br>\n",
        "&emsp; &emsp; 2. Get the respective data of the next 30 days into a dataframe.<br>\n",
        "&emsp; &emsp; 3. Check for Repeats<br>\n",
        "&emsp; &emsp;&emsp; &emsp; 3.1 IF Repeats exist : increment the Count of Repeats"
      ]
    },
    {
      "cell_type": "code",
      "execution_count": 10,
      "metadata": {
        "id": "24OCxcfj8KAS"
      },
      "outputs": [],
      "source": [
        "cor = 0 #count of repeats - The number of first time customers repeating orders\n",
        "\n",
        "for index,row in df_unique_dec.iterrows():\n",
        "    # Getting the dates for the next 30 days\n",
        "    dates = np.array(row['Date_of_Booking'], dtype=np.datetime64) + np.arange(30)\n",
        "\n",
        "    # slicing the dataframe and retrieving only data for the next 30 days\n",
        "    df_dates = df_sorted[df_sorted['Date_of_Booking'].isin(dates)]\n",
        "\n",
        "    #calculating the number of Repeat orders by this Customer\n",
        "    df_dates = df_dates.where(df_dates[\"Profile ID\"] == row['Profile ID'])\n",
        "    df_dates = df_dates.dropna()\n",
        "    if len(df_dates) > 1 :\n",
        "        cor = cor + 1"
      ]
    },
    {
      "cell_type": "markdown",
      "metadata": {
        "id": "SfuUkua38KAS"
      },
      "source": [
        "#### Now that we have the number of first time customers repeating orders in 30 days of their first order for the month of Dec 2017 , we can calculate the percentage of the same"
      ]
    },
    {
      "cell_type": "code",
      "execution_count": 11,
      "metadata": {
        "colab": {
          "base_uri": "https://localhost:8080/"
        },
        "id": "61zUUQV-8KAS",
        "outputId": "46dbe9b1-eb72-4812-873c-384b78374fdd"
      },
      "outputs": [
        {
          "output_type": "stream",
          "name": "stdout",
          "text": [
            "0.50%  of first time customers in Dec 2017 placed an order within 30 days of their first order\n"
          ]
        }
      ],
      "source": [
        "percentage_repeat_for_dec = (cor/len(df_unique_dec))\n",
        "print('{:.2%}'.format(percentage_repeat_for_dec),\" of first time customers in Dec 2017 placed an order within 30 days of their first order\")"
      ]
    },
    {
      "cell_type": "markdown",
      "metadata": {
        "id": "x6bF0R6a8KAT"
      },
      "source": [
        "### Answer : 16.63%  of first time customers in Dec 2017 placed an order within 30 days of their first order"
      ]
    },
    {
      "cell_type": "markdown",
      "metadata": {
        "id": "Thg6nvZj8KAT"
      },
      "source": [
        "## Q3.What is the 90-day repeat rate of users acquired in Jan,Feb,March 2018?\n",
        "\n",
        "Approach same as the previous question"
      ]
    },
    {
      "cell_type": "code",
      "execution_count": 12,
      "metadata": {
        "id": "F53Uatp-8KAT"
      },
      "outputs": [],
      "source": [
        "df_unique = df_sorted.drop_duplicates('Profile ID',keep = 'first')\n",
        "\n",
        "#retrieving data for Jan to March 2018\n",
        "df_unique_jan_to_march = df_unique[df_unique[\"Date_of_Booking\"] < '2018-04-01']\n",
        "df_unique_jan_to_march = df_unique[df_unique[\"Date_of_Booking\"] >= '2018-01-01']\n",
        "\n",
        "cor = 0 #count of repeats\n",
        "\n",
        "\n",
        "for index,row in df_unique_jan_to_march.iterrows():\n",
        "    # Getting the dates for the next 90 days\n",
        "    dates = np.array(row['Date_of_Booking'], dtype=np.datetime64) + np.arange(90)\n",
        "\n",
        "    # slicing the dataframe and retrieving only data for the next 90 days\n",
        "    df_dates = df_sorted[df_sorted['Date_of_Booking'].isin(dates)]\n",
        "\n",
        "    #calculating the number of Repeat orders by this Customer within the time frame\n",
        "    df_dates = df_dates.where(df_dates[\"Profile ID\"] == row['Profile ID'])\n",
        "    df_dates = df_dates.dropna()\n",
        "    if len(df_dates) > 1 :\n",
        "        #if repeat order exist, increment COR\n",
        "        cor = cor + 1"
      ]
    },
    {
      "cell_type": "code",
      "execution_count": 13,
      "metadata": {
        "colab": {
          "base_uri": "https://localhost:8080/"
        },
        "id": "yZWJewxx8KAT",
        "outputId": "1b1c7d37-2de6-4b55-8cd4-f77b03e07320"
      },
      "outputs": [
        {
          "output_type": "stream",
          "name": "stdout",
          "text": [
            "0.11% of first time customers in Jan, Feb and March 2018 placed an order within 90 days of their first order\n"
          ]
        }
      ],
      "source": [
        "percentage_repeat_for_jan_to_march = (cor/len(df_unique_jan_to_march))\n",
        "print('{:.2%}'.format(percentage_repeat_for_jan_to_march), \"of first time customers in Jan, Feb and March 2018 placed an order within 90 days of their first order\")"
      ]
    },
    {
      "cell_type": "markdown",
      "metadata": {
        "id": "IisINpqx8KAT"
      },
      "source": [
        "### Result : 13.26% of first time customers in Jan, Feb and March 2018 placed an order within 90 days of their first order"
      ]
    },
    {
      "cell_type": "markdown",
      "metadata": {
        "id": "7lL-D6z68KAU"
      },
      "source": [
        "## Q5. Plot the distribution of users by frequency of their 90-day repeat (Number of times user repeated within first 90 days)\n",
        "\n",
        "\n",
        "#### First, we initialize two columns <br> 1. Gap - Reresents Gap between Date of Booking and Date of Service Requested. <br> 90_day_repeat - contains value 1 or 0 i.e there was another order by the customer within 90 days or not"
      ]
    },
    {
      "cell_type": "code",
      "execution_count": 14,
      "metadata": {
        "colab": {
          "base_uri": "https://localhost:8080/"
        },
        "id": "PtYDgSco8KAU",
        "outputId": "3826ea0c-163d-4f54-f025-c434c3a0a030"
      },
      "outputs": [
        {
          "output_type": "stream",
          "name": "stderr",
          "text": [
            "<ipython-input-14-4fef1bb1df7f>:2: SettingWithCopyWarning: \n",
            "A value is trying to be set on a copy of a slice from a DataFrame.\n",
            "Try using .loc[row_indexer,col_indexer] = value instead\n",
            "\n",
            "See the caveats in the documentation: https://pandas.pydata.org/pandas-docs/stable/user_guide/indexing.html#returning-a-view-versus-a-copy\n",
            "  df_unique['Gap'] = 0\n",
            "<ipython-input-14-4fef1bb1df7f>:3: SettingWithCopyWarning: \n",
            "A value is trying to be set on a copy of a slice from a DataFrame.\n",
            "Try using .loc[row_indexer,col_indexer] = value instead\n",
            "\n",
            "See the caveats in the documentation: https://pandas.pydata.org/pandas-docs/stable/user_guide/indexing.html#returning-a-view-versus-a-copy\n",
            "  df_unique['90_day_repeat'] = 0\n"
          ]
        }
      ],
      "source": [
        "df_unique = df_sorted.drop_duplicates('Profile ID',keep = 'first')\n",
        "df_unique['Gap'] = 0\n",
        "df_unique['90_day_repeat'] = 0"
      ]
    },
    {
      "cell_type": "code",
      "execution_count": 15,
      "metadata": {
        "colab": {
          "base_uri": "https://localhost:8080/",
          "height": 241
        },
        "id": "kAvZEKpX8KAU",
        "outputId": "658d8d20-1844-4365-bd61-a307bacaeca8"
      },
      "outputs": [
        {
          "output_type": "execute_result",
          "data": {
            "text/plain": [
              "      Transaction_ID  Profile ID Date_of_Booking Date_of_Service_Requested  \\\n",
              "25310          SAGTE       13602      2017-12-01                2017-12-03   \n",
              "14754          SRHLB        7974      2017-12-01                2017-12-03   \n",
              "10039          RJHNB        5436      2017-12-01                2017-12-06   \n",
              "3398           VGEHF        1833      2017-12-01                2017-12-02   \n",
              "22773          CHFWJ       12184      2017-12-01                2017-12-03   \n",
              "\n",
              "      Source  Slot of Booking (Hour of the Day) Month_of_Booking  Gap  \\\n",
              "25310      D                                 18          2017-12    0   \n",
              "14754      A                                  8          2017-12    0   \n",
              "10039      C                                  7          2017-12    0   \n",
              "3398       B                                 14          2017-12    0   \n",
              "22773      C                                 13          2017-12    0   \n",
              "\n",
              "       90_day_repeat  \n",
              "25310              0  \n",
              "14754              0  \n",
              "10039              0  \n",
              "3398               0  \n",
              "22773              0  "
            ],
            "text/html": [
              "\n",
              "  <div id=\"df-a73e9185-8fda-414e-8736-773292af177e\" class=\"colab-df-container\">\n",
              "    <div>\n",
              "<style scoped>\n",
              "    .dataframe tbody tr th:only-of-type {\n",
              "        vertical-align: middle;\n",
              "    }\n",
              "\n",
              "    .dataframe tbody tr th {\n",
              "        vertical-align: top;\n",
              "    }\n",
              "\n",
              "    .dataframe thead th {\n",
              "        text-align: right;\n",
              "    }\n",
              "</style>\n",
              "<table border=\"1\" class=\"dataframe\">\n",
              "  <thead>\n",
              "    <tr style=\"text-align: right;\">\n",
              "      <th></th>\n",
              "      <th>Transaction_ID</th>\n",
              "      <th>Profile ID</th>\n",
              "      <th>Date_of_Booking</th>\n",
              "      <th>Date_of_Service_Requested</th>\n",
              "      <th>Source</th>\n",
              "      <th>Slot of Booking (Hour of the Day)</th>\n",
              "      <th>Month_of_Booking</th>\n",
              "      <th>Gap</th>\n",
              "      <th>90_day_repeat</th>\n",
              "    </tr>\n",
              "  </thead>\n",
              "  <tbody>\n",
              "    <tr>\n",
              "      <th>25310</th>\n",
              "      <td>SAGTE</td>\n",
              "      <td>13602</td>\n",
              "      <td>2017-12-01</td>\n",
              "      <td>2017-12-03</td>\n",
              "      <td>D</td>\n",
              "      <td>18</td>\n",
              "      <td>2017-12</td>\n",
              "      <td>0</td>\n",
              "      <td>0</td>\n",
              "    </tr>\n",
              "    <tr>\n",
              "      <th>14754</th>\n",
              "      <td>SRHLB</td>\n",
              "      <td>7974</td>\n",
              "      <td>2017-12-01</td>\n",
              "      <td>2017-12-03</td>\n",
              "      <td>A</td>\n",
              "      <td>8</td>\n",
              "      <td>2017-12</td>\n",
              "      <td>0</td>\n",
              "      <td>0</td>\n",
              "    </tr>\n",
              "    <tr>\n",
              "      <th>10039</th>\n",
              "      <td>RJHNB</td>\n",
              "      <td>5436</td>\n",
              "      <td>2017-12-01</td>\n",
              "      <td>2017-12-06</td>\n",
              "      <td>C</td>\n",
              "      <td>7</td>\n",
              "      <td>2017-12</td>\n",
              "      <td>0</td>\n",
              "      <td>0</td>\n",
              "    </tr>\n",
              "    <tr>\n",
              "      <th>3398</th>\n",
              "      <td>VGEHF</td>\n",
              "      <td>1833</td>\n",
              "      <td>2017-12-01</td>\n",
              "      <td>2017-12-02</td>\n",
              "      <td>B</td>\n",
              "      <td>14</td>\n",
              "      <td>2017-12</td>\n",
              "      <td>0</td>\n",
              "      <td>0</td>\n",
              "    </tr>\n",
              "    <tr>\n",
              "      <th>22773</th>\n",
              "      <td>CHFWJ</td>\n",
              "      <td>12184</td>\n",
              "      <td>2017-12-01</td>\n",
              "      <td>2017-12-03</td>\n",
              "      <td>C</td>\n",
              "      <td>13</td>\n",
              "      <td>2017-12</td>\n",
              "      <td>0</td>\n",
              "      <td>0</td>\n",
              "    </tr>\n",
              "  </tbody>\n",
              "</table>\n",
              "</div>\n",
              "    <div class=\"colab-df-buttons\">\n",
              "\n",
              "  <div class=\"colab-df-container\">\n",
              "    <button class=\"colab-df-convert\" onclick=\"convertToInteractive('df-a73e9185-8fda-414e-8736-773292af177e')\"\n",
              "            title=\"Convert this dataframe to an interactive table.\"\n",
              "            style=\"display:none;\">\n",
              "\n",
              "  <svg xmlns=\"http://www.w3.org/2000/svg\" height=\"24px\" viewBox=\"0 -960 960 960\">\n",
              "    <path d=\"M120-120v-720h720v720H120Zm60-500h600v-160H180v160Zm220 220h160v-160H400v160Zm0 220h160v-160H400v160ZM180-400h160v-160H180v160Zm440 0h160v-160H620v160ZM180-180h160v-160H180v160Zm440 0h160v-160H620v160Z\"/>\n",
              "  </svg>\n",
              "    </button>\n",
              "\n",
              "  <style>\n",
              "    .colab-df-container {\n",
              "      display:flex;\n",
              "      gap: 12px;\n",
              "    }\n",
              "\n",
              "    .colab-df-convert {\n",
              "      background-color: #E8F0FE;\n",
              "      border: none;\n",
              "      border-radius: 50%;\n",
              "      cursor: pointer;\n",
              "      display: none;\n",
              "      fill: #1967D2;\n",
              "      height: 32px;\n",
              "      padding: 0 0 0 0;\n",
              "      width: 32px;\n",
              "    }\n",
              "\n",
              "    .colab-df-convert:hover {\n",
              "      background-color: #E2EBFA;\n",
              "      box-shadow: 0px 1px 2px rgba(60, 64, 67, 0.3), 0px 1px 3px 1px rgba(60, 64, 67, 0.15);\n",
              "      fill: #174EA6;\n",
              "    }\n",
              "\n",
              "    .colab-df-buttons div {\n",
              "      margin-bottom: 4px;\n",
              "    }\n",
              "\n",
              "    [theme=dark] .colab-df-convert {\n",
              "      background-color: #3B4455;\n",
              "      fill: #D2E3FC;\n",
              "    }\n",
              "\n",
              "    [theme=dark] .colab-df-convert:hover {\n",
              "      background-color: #434B5C;\n",
              "      box-shadow: 0px 1px 3px 1px rgba(0, 0, 0, 0.15);\n",
              "      filter: drop-shadow(0px 1px 2px rgba(0, 0, 0, 0.3));\n",
              "      fill: #FFFFFF;\n",
              "    }\n",
              "  </style>\n",
              "\n",
              "    <script>\n",
              "      const buttonEl =\n",
              "        document.querySelector('#df-a73e9185-8fda-414e-8736-773292af177e button.colab-df-convert');\n",
              "      buttonEl.style.display =\n",
              "        google.colab.kernel.accessAllowed ? 'block' : 'none';\n",
              "\n",
              "      async function convertToInteractive(key) {\n",
              "        const element = document.querySelector('#df-a73e9185-8fda-414e-8736-773292af177e');\n",
              "        const dataTable =\n",
              "          await google.colab.kernel.invokeFunction('convertToInteractive',\n",
              "                                                    [key], {});\n",
              "        if (!dataTable) return;\n",
              "\n",
              "        const docLinkHtml = 'Like what you see? Visit the ' +\n",
              "          '<a target=\"_blank\" href=https://colab.research.google.com/notebooks/data_table.ipynb>data table notebook</a>'\n",
              "          + ' to learn more about interactive tables.';\n",
              "        element.innerHTML = '';\n",
              "        dataTable['output_type'] = 'display_data';\n",
              "        await google.colab.output.renderOutput(dataTable, element);\n",
              "        const docLink = document.createElement('div');\n",
              "        docLink.innerHTML = docLinkHtml;\n",
              "        element.appendChild(docLink);\n",
              "      }\n",
              "    </script>\n",
              "  </div>\n",
              "\n",
              "\n",
              "<div id=\"df-19714480-1946-4e7f-9454-bf87a55b70ed\">\n",
              "  <button class=\"colab-df-quickchart\" onclick=\"quickchart('df-19714480-1946-4e7f-9454-bf87a55b70ed')\"\n",
              "            title=\"Suggest charts\"\n",
              "            style=\"display:none;\">\n",
              "\n",
              "<svg xmlns=\"http://www.w3.org/2000/svg\" height=\"24px\"viewBox=\"0 0 24 24\"\n",
              "     width=\"24px\">\n",
              "    <g>\n",
              "        <path d=\"M19 3H5c-1.1 0-2 .9-2 2v14c0 1.1.9 2 2 2h14c1.1 0 2-.9 2-2V5c0-1.1-.9-2-2-2zM9 17H7v-7h2v7zm4 0h-2V7h2v10zm4 0h-2v-4h2v4z\"/>\n",
              "    </g>\n",
              "</svg>\n",
              "  </button>\n",
              "\n",
              "<style>\n",
              "  .colab-df-quickchart {\n",
              "      --bg-color: #E8F0FE;\n",
              "      --fill-color: #1967D2;\n",
              "      --hover-bg-color: #E2EBFA;\n",
              "      --hover-fill-color: #174EA6;\n",
              "      --disabled-fill-color: #AAA;\n",
              "      --disabled-bg-color: #DDD;\n",
              "  }\n",
              "\n",
              "  [theme=dark] .colab-df-quickchart {\n",
              "      --bg-color: #3B4455;\n",
              "      --fill-color: #D2E3FC;\n",
              "      --hover-bg-color: #434B5C;\n",
              "      --hover-fill-color: #FFFFFF;\n",
              "      --disabled-bg-color: #3B4455;\n",
              "      --disabled-fill-color: #666;\n",
              "  }\n",
              "\n",
              "  .colab-df-quickchart {\n",
              "    background-color: var(--bg-color);\n",
              "    border: none;\n",
              "    border-radius: 50%;\n",
              "    cursor: pointer;\n",
              "    display: none;\n",
              "    fill: var(--fill-color);\n",
              "    height: 32px;\n",
              "    padding: 0;\n",
              "    width: 32px;\n",
              "  }\n",
              "\n",
              "  .colab-df-quickchart:hover {\n",
              "    background-color: var(--hover-bg-color);\n",
              "    box-shadow: 0 1px 2px rgba(60, 64, 67, 0.3), 0 1px 3px 1px rgba(60, 64, 67, 0.15);\n",
              "    fill: var(--button-hover-fill-color);\n",
              "  }\n",
              "\n",
              "  .colab-df-quickchart-complete:disabled,\n",
              "  .colab-df-quickchart-complete:disabled:hover {\n",
              "    background-color: var(--disabled-bg-color);\n",
              "    fill: var(--disabled-fill-color);\n",
              "    box-shadow: none;\n",
              "  }\n",
              "\n",
              "  .colab-df-spinner {\n",
              "    border: 2px solid var(--fill-color);\n",
              "    border-color: transparent;\n",
              "    border-bottom-color: var(--fill-color);\n",
              "    animation:\n",
              "      spin 1s steps(1) infinite;\n",
              "  }\n",
              "\n",
              "  @keyframes spin {\n",
              "    0% {\n",
              "      border-color: transparent;\n",
              "      border-bottom-color: var(--fill-color);\n",
              "      border-left-color: var(--fill-color);\n",
              "    }\n",
              "    20% {\n",
              "      border-color: transparent;\n",
              "      border-left-color: var(--fill-color);\n",
              "      border-top-color: var(--fill-color);\n",
              "    }\n",
              "    30% {\n",
              "      border-color: transparent;\n",
              "      border-left-color: var(--fill-color);\n",
              "      border-top-color: var(--fill-color);\n",
              "      border-right-color: var(--fill-color);\n",
              "    }\n",
              "    40% {\n",
              "      border-color: transparent;\n",
              "      border-right-color: var(--fill-color);\n",
              "      border-top-color: var(--fill-color);\n",
              "    }\n",
              "    60% {\n",
              "      border-color: transparent;\n",
              "      border-right-color: var(--fill-color);\n",
              "    }\n",
              "    80% {\n",
              "      border-color: transparent;\n",
              "      border-right-color: var(--fill-color);\n",
              "      border-bottom-color: var(--fill-color);\n",
              "    }\n",
              "    90% {\n",
              "      border-color: transparent;\n",
              "      border-bottom-color: var(--fill-color);\n",
              "    }\n",
              "  }\n",
              "</style>\n",
              "\n",
              "  <script>\n",
              "    async function quickchart(key) {\n",
              "      const quickchartButtonEl =\n",
              "        document.querySelector('#' + key + ' button');\n",
              "      quickchartButtonEl.disabled = true;  // To prevent multiple clicks.\n",
              "      quickchartButtonEl.classList.add('colab-df-spinner');\n",
              "      try {\n",
              "        const charts = await google.colab.kernel.invokeFunction(\n",
              "            'suggestCharts', [key], {});\n",
              "      } catch (error) {\n",
              "        console.error('Error during call to suggestCharts:', error);\n",
              "      }\n",
              "      quickchartButtonEl.classList.remove('colab-df-spinner');\n",
              "      quickchartButtonEl.classList.add('colab-df-quickchart-complete');\n",
              "    }\n",
              "    (() => {\n",
              "      let quickchartButtonEl =\n",
              "        document.querySelector('#df-19714480-1946-4e7f-9454-bf87a55b70ed button');\n",
              "      quickchartButtonEl.style.display =\n",
              "        google.colab.kernel.accessAllowed ? 'block' : 'none';\n",
              "    })();\n",
              "  </script>\n",
              "</div>\n",
              "\n",
              "    </div>\n",
              "  </div>\n"
            ],
            "application/vnd.google.colaboratory.intrinsic+json": {
              "type": "dataframe",
              "variable_name": "df_unique",
              "summary": "{\n  \"name\": \"df_unique\",\n  \"rows\": 16711,\n  \"fields\": [\n    {\n      \"column\": \"Transaction_ID\",\n      \"properties\": {\n        \"dtype\": \"string\",\n        \"num_unique_values\": 16711,\n        \"samples\": [\n          \"LYXBK\",\n          \"IIUKQ\",\n          \"VLZGP\"\n        ],\n        \"semantic_type\": \"\",\n        \"description\": \"\"\n      }\n    },\n    {\n      \"column\": \"Profile ID\",\n      \"properties\": {\n        \"dtype\": \"number\",\n        \"std\": 4824,\n        \"min\": 1,\n        \"max\": 16711,\n        \"num_unique_values\": 16711,\n        \"samples\": [\n          15217,\n          5480,\n          12012\n        ],\n        \"semantic_type\": \"\",\n        \"description\": \"\"\n      }\n    },\n    {\n      \"column\": \"Date_of_Booking\",\n      \"properties\": {\n        \"dtype\": \"date\",\n        \"min\": \"2017-12-01 00:00:00\",\n        \"max\": \"2018-11-30 00:00:00\",\n        \"num_unique_values\": 365,\n        \"samples\": [\n          \"2018-06-12 00:00:00\",\n          \"2018-01-03 00:00:00\",\n          \"2017-12-16 00:00:00\"\n        ],\n        \"semantic_type\": \"\",\n        \"description\": \"\"\n      }\n    },\n    {\n      \"column\": \"Date_of_Service_Requested\",\n      \"properties\": {\n        \"dtype\": \"date\",\n        \"min\": \"2017-12-01 00:00:00\",\n        \"max\": \"2018-12-05 00:00:00\",\n        \"num_unique_values\": 370,\n        \"samples\": [\n          \"2018-10-24 00:00:00\",\n          \"2018-01-03 00:00:00\",\n          \"2017-12-16 00:00:00\"\n        ],\n        \"semantic_type\": \"\",\n        \"description\": \"\"\n      }\n    },\n    {\n      \"column\": \"Source\",\n      \"properties\": {\n        \"dtype\": \"category\",\n        \"num_unique_values\": 4,\n        \"samples\": [\n          \"A\",\n          \"B\",\n          \"D\"\n        ],\n        \"semantic_type\": \"\",\n        \"description\": \"\"\n      }\n    },\n    {\n      \"column\": \"Slot of Booking (Hour of the Day)\",\n      \"properties\": {\n        \"dtype\": \"number\",\n        \"std\": 3,\n        \"min\": 6,\n        \"max\": 19,\n        \"num_unique_values\": 14,\n        \"samples\": [\n          9,\n          10,\n          18\n        ],\n        \"semantic_type\": \"\",\n        \"description\": \"\"\n      }\n    },\n    {\n      \"column\": \"Month_of_Booking\",\n      \"properties\": {\n        \"dtype\": \"period[M]\",\n        \"num_unique_values\": 12,\n        \"samples\": [\n          \"2018-10\",\n          \"2018-09\",\n          \"2017-12\"\n        ],\n        \"semantic_type\": \"\",\n        \"description\": \"\"\n      }\n    },\n    {\n      \"column\": \"Gap\",\n      \"properties\": {\n        \"dtype\": \"number\",\n        \"std\": 0,\n        \"min\": 0,\n        \"max\": 0,\n        \"num_unique_values\": 1,\n        \"samples\": [\n          0\n        ],\n        \"semantic_type\": \"\",\n        \"description\": \"\"\n      }\n    },\n    {\n      \"column\": \"90_day_repeat\",\n      \"properties\": {\n        \"dtype\": \"number\",\n        \"std\": 0,\n        \"min\": 0,\n        \"max\": 0,\n        \"num_unique_values\": 1,\n        \"samples\": [\n          0\n        ],\n        \"semantic_type\": \"\",\n        \"description\": \"\"\n      }\n    }\n  ]\n}"
            }
          },
          "metadata": {},
          "execution_count": 15
        }
      ],
      "source": [
        "df_unique.head()"
      ]
    },
    {
      "cell_type": "markdown",
      "metadata": {
        "id": "3RvnaRwg8KAU"
      },
      "source": [
        "### An important factor to consider is that we have data up till 30 Nov 2018. Hence, we can only have 90-day-repeat\n",
        "### data till ```Septermber 1,2018```"
      ]
    },
    {
      "cell_type": "code",
      "execution_count": 16,
      "metadata": {
        "id": "Rnoc3d5G8KAU"
      },
      "outputs": [],
      "source": [
        "df_unique = df_unique[df_unique[\"Date_of_Booking\"] <= '2018-09-01']"
      ]
    },
    {
      "cell_type": "code",
      "execution_count": 17,
      "metadata": {
        "id": "f4h1anyy8KAV"
      },
      "outputs": [],
      "source": [
        "# setting transaction id as index for ease in slicing\n",
        "df_unique = df_unique.set_index(\"Transaction_ID\", drop = False)\n",
        "\n",
        "cor = 0 #count of repeats\n",
        "\n",
        "#initializing frequency dictionary\n",
        "freq = dict.fromkeys(range(1,16),0)\n",
        "\n",
        "for index,row in df_unique.iterrows():\n",
        "\n",
        "    # Getting the dates for the next 90 days\n",
        "    dates = np.array(row['Date_of_Booking'], dtype=np.datetime64) + np.arange(90)\n",
        "\n",
        "    # slicing the dataframe and retrieving only data for the next 90 days\n",
        "    df_dates = df_sorted[df_sorted['Date_of_Booking'].isin(dates)]\n",
        "\n",
        "    #calculating the number of Repeat orders by this Customer within the time frame\n",
        "    df_dates = df_dates.where(df_dates[\"Profile ID\"] == row['Profile ID'])\n",
        "    df_dates = df_dates.dropna()\n",
        "    if len(df_dates) > 1 :\n",
        "        #if repeat order exist, increment COR\n",
        "        cor = cor + 1\n",
        "\n",
        "        #update number of customers per freq\n",
        "        freq[len(df_dates)-1] = freq[len(df_dates)-1] + 1\n",
        "\n",
        "        #update 90_day_repeat column value for this customer\n",
        "        df_unique.loc[row['Transaction_ID'],'90_day_repeat'] = 1\n",
        ""
      ]
    },
    {
      "cell_type": "markdown",
      "metadata": {
        "id": "KQLKDpmZ8KAV"
      },
      "source": [
        "### Plotting"
      ]
    },
    {
      "cell_type": "code",
      "execution_count": 18,
      "metadata": {
        "colab": {
          "base_uri": "https://localhost:8080/",
          "height": 968
        },
        "id": "vAC0CBRw8KAV",
        "outputId": "bd1bb33b-98dc-42bd-c940-29711fea61ca"
      },
      "outputs": [
        {
          "output_type": "stream",
          "name": "stdout",
          "text": [
            "27 {1: 27, 2: 0, 3: 0, 4: 0, 5: 0, 6: 0, 7: 0, 8: 0, 9: 0, 10: 0, 11: 0, 12: 0, 13: 0, 14: 0, 15: 0}\n"
          ]
        },
        {
          "output_type": "execute_result",
          "data": {
            "text/plain": [
              "([<matplotlib.axis.XTick at 0x79373e44bdc0>,\n",
              "  <matplotlib.axis.XTick at 0x79373e449930>,\n",
              "  <matplotlib.axis.XTick at 0x79373e44a770>,\n",
              "  <matplotlib.axis.XTick at 0x79373db220b0>,\n",
              "  <matplotlib.axis.XTick at 0x79373db22b60>,\n",
              "  <matplotlib.axis.XTick at 0x79373db21c30>,\n",
              "  <matplotlib.axis.XTick at 0x79373db23b20>,\n",
              "  <matplotlib.axis.XTick at 0x79373dae8610>,\n",
              "  <matplotlib.axis.XTick at 0x79373dae90c0>,\n",
              "  <matplotlib.axis.XTick at 0x79373dae9b70>,\n",
              "  <matplotlib.axis.XTick at 0x79373dae9420>,\n",
              "  <matplotlib.axis.XTick at 0x79373daea470>,\n",
              "  <matplotlib.axis.XTick at 0x79373daeaf20>,\n",
              "  <matplotlib.axis.XTick at 0x79373daeb9d0>,\n",
              "  <matplotlib.axis.XTick at 0x79373dac84c0>],\n",
              " [Text(0, 0, '1'),\n",
              "  Text(1, 0, '2'),\n",
              "  Text(2, 0, '3'),\n",
              "  Text(3, 0, '4'),\n",
              "  Text(4, 0, '5'),\n",
              "  Text(5, 0, '6'),\n",
              "  Text(6, 0, '7'),\n",
              "  Text(7, 0, '8'),\n",
              "  Text(8, 0, '9'),\n",
              "  Text(9, 0, '10'),\n",
              "  Text(10, 0, '11'),\n",
              "  Text(11, 0, '12'),\n",
              "  Text(12, 0, '13'),\n",
              "  Text(13, 0, '14'),\n",
              "  Text(14, 0, '15')])"
            ]
          },
          "metadata": {},
          "execution_count": 18
        },
        {
          "output_type": "display_data",
          "data": {
            "text/plain": [
              "<Figure size 640x480 with 1 Axes>"
            ],
            "image/png": "[encoded data removed]"
          },
          "metadata": {}
        }
      ],
      "source": [
        "print(cor,freq)\n",
        "plt.bar(freq.keys(),freq.values())\n",
        "plt.xticks(range(len(freq)), list(freq.keys()))"
      ]
    },
    {
      "cell_type": "code",
      "execution_count": 19,
      "metadata": {
        "colab": {
          "base_uri": "https://localhost:8080/",
          "height": 951
        },
        "id": "11UHAiQm8KAV",
        "outputId": "adf9057e-35ac-43b8-f505-415a7fc8223b"
      },
      "outputs": [
        {
          "output_type": "execute_result",
          "data": {
            "text/plain": [
              "([<matplotlib.axis.XTick at 0x79373dab6e00>,\n",
              "  <matplotlib.axis.XTick at 0x79373dab6dd0>,\n",
              "  <matplotlib.axis.XTick at 0x79373dab6ce0>,\n",
              "  <matplotlib.axis.XTick at 0x79373da973d0>,\n",
              "  <matplotlib.axis.XTick at 0x79373da97e80>,\n",
              "  <matplotlib.axis.XTick at 0x79373da96f20>,\n",
              "  <matplotlib.axis.XTick at 0x79373da70e80>,\n",
              "  <matplotlib.axis.XTick at 0x79373da71930>,\n",
              "  <matplotlib.axis.XTick at 0x79373da723e0>,\n",
              "  <matplotlib.axis.XTick at 0x79373da97820>,\n",
              "  <matplotlib.axis.XTick at 0x79373da709d0>,\n",
              "  <matplotlib.axis.XTick at 0x79373da73820>,\n",
              "  <matplotlib.axis.XTick at 0x79373da5c310>,\n",
              "  <matplotlib.axis.XTick at 0x79373da5cdc0>,\n",
              "  <matplotlib.axis.XTick at 0x79373da73190>],\n",
              " [Text(0, 0, '1'),\n",
              "  Text(1, 0, '2'),\n",
              "  Text(2, 0, '3'),\n",
              "  Text(3, 0, '4'),\n",
              "  Text(4, 0, '5'),\n",
              "  Text(5, 0, '6'),\n",
              "  Text(6, 0, '7'),\n",
              "  Text(7, 0, '8'),\n",
              "  Text(8, 0, '9'),\n",
              "  Text(9, 0, '10'),\n",
              "  Text(10, 0, '11'),\n",
              "  Text(11, 0, '12'),\n",
              "  Text(12, 0, '13'),\n",
              "  Text(13, 0, '14'),\n",
              "  Text(14, 0, '15')])"
            ]
          },
          "metadata": {},
          "execution_count": 19
        },
        {
          "output_type": "display_data",
          "data": {
            "text/plain": [
              "<Figure size 640x480 with 1 Axes>"
            ],
            "image/png": "[encoded data removed]"
          },
          "metadata": {}
        }
      ],
      "source": [
        "plt.fill_between(freq.keys(), freq.values())\n",
        "plt.xticks(range(len(freq)), list(freq.keys()))"
      ]
    },
    {
      "cell_type": "markdown",
      "metadata": {
        "id": "r91cckwA8KAW"
      },
      "source": [
        "## Insight from above\n",
        "\n",
        "#### A total of 2520 customers placed an order within 90 days of their first order, Majority of whom had a frequency of 1,2& 3 i.e 2334 out of 2520 which accounts for 92.6% of the total customers placing an order within 90 days of their first order."
      ]
    },
    {
      "cell_type": "markdown",
      "metadata": {
        "id": "_4o9n6TV8KAW"
      },
      "source": [
        "## Q4. Use logistic regression to predict the 90-day repeat of users acquired in November 2018. Hint: Use Source, Slot of Booking, Gap between date of Booking and date of service requested as predictor variables\"\n",
        "\n",
        "First, We import certain libraries which will be useful for creating the model\n"
      ]
    },
    {
      "cell_type": "code",
      "execution_count": 20,
      "metadata": {
        "id": "2wo6R8ST8KAW"
      },
      "outputs": [],
      "source": [
        "import seaborn as sb\n",
        "import sklearn\n",
        "from sklearn.preprocessing import scale\n",
        "from sklearn.linear_model import LogisticRegression\n",
        "from sklearn.model_selection import train_test_split\n",
        "from sklearn import metrics\n",
        "from sklearn import preprocessing\n",
        "from sklearn.ensemble import RandomForestClassifier"
      ]
    },
    {
      "cell_type": "code",
      "execution_count": 21,
      "metadata": {
        "id": "07B31qKN8KAW"
      },
      "outputs": [],
      "source": [
        "%matplotlib inline"
      ]
    },
    {
      "cell_type": "markdown",
      "metadata": {
        "id": "m9j6PvEj8KAX"
      },
      "source": [
        "#### Slicing data required for the model\n",
        "\n",
        "Columns such as ``` Transaction_ID, Profile_ID``` cannot be instrumental in predicting future 90_day_repeats as they represent past transactions and already existing users."
      ]
    },
    {
      "cell_type": "code",
      "execution_count": 22,
      "metadata": {
        "id": "H1SdcEMR8KAX"
      },
      "outputs": [],
      "source": [
        "X = df_unique.loc[:,['Date_of_Booking',\"Date_of_Service_Requested\",\"Source\",\"Slot of Booking (Hour of the Day)\",'Month_of_Booking',\"Gap\",\"90_day_repeat\"]]"
      ]
    },
    {
      "cell_type": "code",
      "execution_count": 23,
      "metadata": {
        "colab": {
          "base_uri": "https://localhost:8080/",
          "height": 467
        },
        "id": "-nF7-2tG8KAX",
        "outputId": "0d3f1871-0cb9-4b3b-914f-5d730004bb88"
      },
      "outputs": [
        {
          "output_type": "execute_result",
          "data": {
            "text/plain": [
              "<Axes: xlabel='Month_of_Booking', ylabel='count'>"
            ]
          },
          "metadata": {},
          "execution_count": 23
        },
        {
          "output_type": "display_data",
          "data": {
            "text/plain": [
              "<Figure size 640x480 with 1 Axes>"
            ],
            "image/png": "[encoded data removed]"
          },
          "metadata": {}
        }
      ],
      "source": [
        "sb.countplot(x='Month_of_Booking',hue='90_day_repeat', data = X)"
      ]
    },
    {
      "cell_type": "markdown",
      "metadata": {
        "id": "5I0Wr3Ss8KAY"
      },
      "source": [
        "### An important factor to consider is that we have data up till 30 Nov 2018. Hence, we can only have 90-day-repeat\n",
        "### data till ```Septermber 1,2018```"
      ]
    },
    {
      "cell_type": "code",
      "execution_count": 24,
      "metadata": {
        "id": "xLNL4A3r8KAY"
      },
      "outputs": [],
      "source": [
        "X = X[X['Date_of_Booking']<'2018-09-01']"
      ]
    },
    {
      "cell_type": "code",
      "execution_count": 25,
      "metadata": {
        "colab": {
          "base_uri": "https://localhost:8080/",
          "height": 467
        },
        "id": "TqKv3Xhl8KAY",
        "outputId": "ec82c406-bc9a-41f1-e4e8-e30e59b3faee"
      },
      "outputs": [
        {
          "output_type": "execute_result",
          "data": {
            "text/plain": [
              "<Axes: xlabel='Month_of_Booking', ylabel='count'>"
            ]
          },
          "metadata": {},
          "execution_count": 25
        },
        {
          "output_type": "display_data",
          "data": {
            "text/plain": [
              "<Figure size 640x480 with 1 Axes>"
            ],
            "image/png": "[encoded data removed]"
          },
          "metadata": {}
        }
      ],
      "source": [
        "sb.countplot(x='Month_of_Booking',hue='90_day_repeat', data = X)"
      ]
    },
    {
      "cell_type": "markdown",
      "metadata": {
        "id": "UhHTa6QV8KAY"
      },
      "source": [
        "#### Assigning y as the dependent variable"
      ]
    },
    {
      "cell_type": "code",
      "execution_count": 26,
      "metadata": {
        "colab": {
          "base_uri": "https://localhost:8080/"
        },
        "id": "xp0cWQOf8KAY",
        "outputId": "ab2f96bc-805f-41b8-9a20-760ec2f9c2c5"
      },
      "outputs": [
        {
          "output_type": "execute_result",
          "data": {
            "text/plain": [
              "90_day_repeat\n",
              "0    13539\n",
              "1       27\n",
              "Name: count, dtype: int64"
            ]
          },
          "metadata": {},
          "execution_count": 26
        }
      ],
      "source": [
        "y =X['90_day_repeat']\n",
        "y.value_counts()"
      ]
    },
    {
      "cell_type": "code",
      "execution_count": 27,
      "metadata": {
        "colab": {
          "base_uri": "https://localhost:8080/"
        },
        "id": "QKP1zp_g8KAZ",
        "outputId": "0c473422-6ee8-4443-a506-9acab7b44926"
      },
      "outputs": [
        {
          "output_type": "execute_result",
          "data": {
            "text/plain": [
              "90_day_repeat\n",
              "0    13539\n",
              "1       27\n",
              "Name: count, dtype: int64"
            ]
          },
          "metadata": {},
          "execution_count": 27
        }
      ],
      "source": [
        "X['90_day_repeat'].value_counts()"
      ]
    },
    {
      "cell_type": "markdown",
      "metadata": {
        "id": "Q-5P6MA68KAZ"
      },
      "source": [
        "#### As the above data is imbalanced, some balancing of data will be required for implementing a model, but first we check for the effect of each present column on the column to be predicted"
      ]
    },
    {
      "cell_type": "code",
      "execution_count": 28,
      "metadata": {
        "colab": {
          "base_uri": "https://localhost:8080/",
          "height": 466
        },
        "id": "1Hk4DkVq8KAZ",
        "outputId": "dc349e93-035a-49b5-8dda-34f45359ea40"
      },
      "outputs": [
        {
          "output_type": "execute_result",
          "data": {
            "text/plain": [
              "<Axes: xlabel='Source', ylabel='count'>"
            ]
          },
          "metadata": {},
          "execution_count": 28
        },
        {
          "output_type": "display_data",
          "data": {
            "text/plain": [
              "<Figure size 640x480 with 1 Axes>"
            ],
            "image/png": "[encoded data removed]"
          },
          "metadata": {}
        }
      ],
      "source": [
        "sb.countplot(x='Source',hue=y,data = X)"
      ]
    },
    {
      "cell_type": "markdown",
      "metadata": {
        "id": "K6YHiO1s8KAZ"
      },
      "source": [
        "#### Source seems to have significant effect on 90_day_repeats"
      ]
    },
    {
      "cell_type": "code",
      "execution_count": 29,
      "metadata": {
        "id": "WexZy8Nn8KAZ"
      },
      "outputs": [],
      "source": [
        "import datetime as dt\n",
        "X['Date_of_Booking'] = X['Date_of_Booking'].map(dt.datetime.toordinal)\n",
        "X['Date_of_Service_Requested'] =X['Date_of_Service_Requested'].map(dt.datetime.toordinal)\n"
      ]
    },
    {
      "cell_type": "code",
      "execution_count": 30,
      "metadata": {
        "id": "cZI5bZ0u8KAa"
      },
      "outputs": [],
      "source": [
        "X['Gap'] = X['Date_of_Service_Requested'] - X['Date_of_Booking']"
      ]
    },
    {
      "cell_type": "code",
      "execution_count": 31,
      "metadata": {
        "colab": {
          "base_uri": "https://localhost:8080/",
          "height": 466
        },
        "id": "5MKhG7iu8KAa",
        "outputId": "81ad629d-6ea7-461c-954e-edc53366b951"
      },
      "outputs": [
        {
          "output_type": "execute_result",
          "data": {
            "text/plain": [
              "<Axes: xlabel='Gap', ylabel='count'>"
            ]
          },
          "metadata": {},
          "execution_count": 31
        },
        {
          "output_type": "display_data",
          "data": {
            "text/plain": [
              "<Figure size 640x480 with 1 Axes>"
            ],
            "image/png": "[encoded data removed]"
          },
          "metadata": {}
        }
      ],
      "source": [
        "sb.countplot(x='Gap',hue=y,data = X)"
      ]
    },
    {
      "cell_type": "markdown",
      "metadata": {
        "id": "N5h0kqfZ8KAa"
      },
      "source": [
        "#### The Gap between service requested nad service delivery does't seem to have any effect on the 90_day_repeat"
      ]
    },
    {
      "cell_type": "code",
      "execution_count": 32,
      "metadata": {
        "id": "4GeTK_218KAa"
      },
      "outputs": [],
      "source": [
        "X = X.drop(columns = ['Date_of_Booking','Date_of_Service_Requested','Gap']) # So , we can get rid of it"
      ]
    },
    {
      "cell_type": "code",
      "execution_count": 33,
      "metadata": {
        "colab": {
          "base_uri": "https://localhost:8080/",
          "height": 466
        },
        "id": "m9o3Y-DM8KAb",
        "outputId": "aad8ce55-003b-4c64-c1b0-1ec29bb2d96b"
      },
      "outputs": [
        {
          "output_type": "execute_result",
          "data": {
            "text/plain": [
              "<Axes: xlabel='Slot of Booking (Hour of the Day)', ylabel='count'>"
            ]
          },
          "metadata": {},
          "execution_count": 33
        },
        {
          "output_type": "display_data",
          "data": {
            "text/plain": [
              "<Figure size 640x480 with 1 Axes>"
            ],
            "image/png": "[encoded data removed]"
          },
          "metadata": {}
        }
      ],
      "source": [
        "sb.countplot(x='Slot of Booking (Hour of the Day)',hue=y,data = X)"
      ]
    },
    {
      "cell_type": "markdown",
      "metadata": {
        "id": "_A6Np-Sv8KAb"
      },
      "source": [
        "#### The slot of the day seems to have some effect on the 90 day repeats\n",
        "\n",
        "#### SO, next we are going to group slots for ease of analysis\n",
        "##### Slots 6-9 as 8\n",
        "##### Slots 10-12 as 11\n",
        "##### Slots 13-15 as 14\n",
        "##### Slots >15 as 17"
      ]
    },
    {
      "cell_type": "code",
      "execution_count": 34,
      "metadata": {
        "id": "d7KgD5T98KAb"
      },
      "outputs": [],
      "source": [
        "X['Slot of Booking (Hour of the Day)'] = X['Slot of Booking (Hour of the Day)'].apply(lambda x: 8 if x<=9 else x)\n",
        "X['Slot of Booking (Hour of the Day)'] = X['Slot of Booking (Hour of the Day)'].apply(lambda x: 11 if (x<13 and x>9) else x)\n",
        "X['Slot of Booking (Hour of the Day)'] = X['Slot of Booking (Hour of the Day)'].apply(lambda x: 14 if x>12 and x<16 else x)\n",
        "X['Slot of Booking (Hour of the Day)'] = X['Slot of Booking (Hour of the Day)'].apply(lambda x: 17 if x>15 else x)"
      ]
    },
    {
      "cell_type": "code",
      "execution_count": 35,
      "metadata": {
        "colab": {
          "base_uri": "https://localhost:8080/"
        },
        "id": "viLlj2IA8KAb",
        "outputId": "8bce8109-f290-4d14-a3d1-436c822f8ae8"
      },
      "outputs": [
        {
          "output_type": "execute_result",
          "data": {
            "text/plain": [
              "Slot of Booking (Hour of the Day)\n",
              "14    7301\n",
              "17    2333\n",
              "8     2227\n",
              "11    1705\n",
              "Name: count, dtype: int64"
            ]
          },
          "metadata": {},
          "execution_count": 35
        }
      ],
      "source": [
        "X['Slot of Booking (Hour of the Day)'].value_counts()"
      ]
    },
    {
      "cell_type": "code",
      "execution_count": 36,
      "metadata": {
        "colab": {
          "base_uri": "https://localhost:8080/",
          "height": 466
        },
        "id": "NakkqNUW8KAc",
        "outputId": "e882987e-4721-41d6-abc0-4a7221762b21"
      },
      "outputs": [
        {
          "output_type": "execute_result",
          "data": {
            "text/plain": [
              "<Axes: xlabel='Slot of Booking (Hour of the Day)', ylabel='count'>"
            ]
          },
          "metadata": {},
          "execution_count": 36
        },
        {
          "output_type": "display_data",
          "data": {
            "text/plain": [
              "<Figure size 640x480 with 1 Axes>"
            ],
            "image/png": "[encoded data removed]"
          },
          "metadata": {}
        }
      ],
      "source": [
        "sb.countplot(x='Slot of Booking (Hour of the Day)',hue=y,data = X)"
      ]
    },
    {
      "cell_type": "code",
      "execution_count": 37,
      "metadata": {
        "id": "XH2tD4I-8KAc"
      },
      "outputs": [],
      "source": [
        "X = X.drop(columns=['90_day_repeat','Month_of_Booking']) #90_day_repeat is the dependent variable and Month isn't required"
      ]
    },
    {
      "cell_type": "code",
      "execution_count": 38,
      "metadata": {
        "colab": {
          "base_uri": "https://localhost:8080/",
          "height": 237
        },
        "id": "1uJTjDqo8KAc",
        "outputId": "e42996ee-0f25-4e1d-830b-997adc014007"
      },
      "outputs": [
        {
          "output_type": "execute_result",
          "data": {
            "text/plain": [
              "               Source  Slot of Booking (Hour of the Day)\n",
              "Transaction_ID                                          \n",
              "SAGTE               D                                 17\n",
              "SRHLB               A                                  8\n",
              "RJHNB               C                                  8\n",
              "VGEHF               B                                 14\n",
              "CHFWJ               C                                 14"
            ],
            "text/html": [
              "\n",
              "  <div id=\"df-1f2c63b4-9be7-4b5e-b58a-98a7370a0671\" class=\"colab-df-container\">\n",
              "    <div>\n",
              "<style scoped>\n",
              "    .dataframe tbody tr th:only-of-type {\n",
              "        vertical-align: middle;\n",
              "    }\n",
              "\n",
              "    .dataframe tbody tr th {\n",
              "        vertical-align: top;\n",
              "    }\n",
              "\n",
              "    .dataframe thead th {\n",
              "        text-align: right;\n",
              "    }\n",
              "</style>\n",
              "<table border=\"1\" class=\"dataframe\">\n",
              "  <thead>\n",
              "    <tr style=\"text-align: right;\">\n",
              "      <th></th>\n",
              "      <th>Source</th>\n",
              "      <th>Slot of Booking (Hour of the Day)</th>\n",
              "    </tr>\n",
              "    <tr>\n",
              "      <th>Transaction_ID</th>\n",
              "      <th></th>\n",
              "      <th></th>\n",
              "    </tr>\n",
              "  </thead>\n",
              "  <tbody>\n",
              "    <tr>\n",
              "      <th>SAGTE</th>\n",
              "      <td>D</td>\n",
              "      <td>17</td>\n",
              "    </tr>\n",
              "    <tr>\n",
              "      <th>SRHLB</th>\n",
              "      <td>A</td>\n",
              "      <td>8</td>\n",
              "    </tr>\n",
              "    <tr>\n",
              "      <th>RJHNB</th>\n",
              "      <td>C</td>\n",
              "      <td>8</td>\n",
              "    </tr>\n",
              "    <tr>\n",
              "      <th>VGEHF</th>\n",
              "      <td>B</td>\n",
              "      <td>14</td>\n",
              "    </tr>\n",
              "    <tr>\n",
              "      <th>CHFWJ</th>\n",
              "      <td>C</td>\n",
              "      <td>14</td>\n",
              "    </tr>\n",
              "  </tbody>\n",
              "</table>\n",
              "</div>\n",
              "    <div class=\"colab-df-buttons\">\n",
              "\n",
              "  <div class=\"colab-df-container\">\n",
              "    <button class=\"colab-df-convert\" onclick=\"convertToInteractive('df-1f2c63b4-9be7-4b5e-b58a-98a7370a0671')\"\n",
              "            title=\"Convert this dataframe to an interactive table.\"\n",
              "            style=\"display:none;\">\n",
              "\n",
              "  <svg xmlns=\"http://www.w3.org/2000/svg\" height=\"24px\" viewBox=\"0 -960 960 960\">\n",
              "    <path d=\"M120-120v-720h720v720H120Zm60-500h600v-160H180v160Zm220 220h160v-160H400v160Zm0 220h160v-160H400v160ZM180-400h160v-160H180v160Zm440 0h160v-160H620v160ZM180-180h160v-160H180v160Zm440 0h160v-160H620v160Z\"/>\n",
              "  </svg>\n",
              "    </button>\n",
              "\n",
              "  <style>\n",
              "    .colab-df-container {\n",
              "      display:flex;\n",
              "      gap: 12px;\n",
              "    }\n",
              "\n",
              "    .colab-df-convert {\n",
              "      background-color: #E8F0FE;\n",
              "      border: none;\n",
              "      border-radius: 50%;\n",
              "      cursor: pointer;\n",
              "      display: none;\n",
              "      fill: #1967D2;\n",
              "      height: 32px;\n",
              "      padding: 0 0 0 0;\n",
              "      width: 32px;\n",
              "    }\n",
              "\n",
              "    .colab-df-convert:hover {\n",
              "      background-color: #E2EBFA;\n",
              "      box-shadow: 0px 1px 2px rgba(60, 64, 67, 0.3), 0px 1px 3px 1px rgba(60, 64, 67, 0.15);\n",
              "      fill: #174EA6;\n",
              "    }\n",
              "\n",
              "    .colab-df-buttons div {\n",
              "      margin-bottom: 4px;\n",
              "    }\n",
              "\n",
              "    [theme=dark] .colab-df-convert {\n",
              "      background-color: #3B4455;\n",
              "      fill: #D2E3FC;\n",
              "    }\n",
              "\n",
              "    [theme=dark] .colab-df-convert:hover {\n",
              "      background-color: #434B5C;\n",
              "      box-shadow: 0px 1px 3px 1px rgba(0, 0, 0, 0.15);\n",
              "      filter: drop-shadow(0px 1px 2px rgba(0, 0, 0, 0.3));\n",
              "      fill: #FFFFFF;\n",
              "    }\n",
              "  </style>\n",
              "\n",
              "    <script>\n",
              "      const buttonEl =\n",
              "        document.querySelector('#df-1f2c63b4-9be7-4b5e-b58a-98a7370a0671 button.colab-df-convert');\n",
              "      buttonEl.style.display =\n",
              "        google.colab.kernel.accessAllowed ? 'block' : 'none';\n",
              "\n",
              "      async function convertToInteractive(key) {\n",
              "        const element = document.querySelector('#df-1f2c63b4-9be7-4b5e-b58a-98a7370a0671');\n",
              "        const dataTable =\n",
              "          await google.colab.kernel.invokeFunction('convertToInteractive',\n",
              "                                                    [key], {});\n",
              "        if (!dataTable) return;\n",
              "\n",
              "        const docLinkHtml = 'Like what you see? Visit the ' +\n",
              "          '<a target=\"_blank\" href=https://colab.research.google.com/notebooks/data_table.ipynb>data table notebook</a>'\n",
              "          + ' to learn more about interactive tables.';\n",
              "        element.innerHTML = '';\n",
              "        dataTable['output_type'] = 'display_data';\n",
              "        await google.colab.output.renderOutput(dataTable, element);\n",
              "        const docLink = document.createElement('div');\n",
              "        docLink.innerHTML = docLinkHtml;\n",
              "        element.appendChild(docLink);\n",
              "      }\n",
              "    </script>\n",
              "  </div>\n",
              "\n",
              "\n",
              "<div id=\"df-686848c2-d1b3-47fe-a4a3-10448181c276\">\n",
              "  <button class=\"colab-df-quickchart\" onclick=\"quickchart('df-686848c2-d1b3-47fe-a4a3-10448181c276')\"\n",
              "            title=\"Suggest charts\"\n",
              "            style=\"display:none;\">\n",
              "\n",
              "<svg xmlns=\"http://www.w3.org/2000/svg\" height=\"24px\"viewBox=\"0 0 24 24\"\n",
              "     width=\"24px\">\n",
              "    <g>\n",
              "        <path d=\"M19 3H5c-1.1 0-2 .9-2 2v14c0 1.1.9 2 2 2h14c1.1 0 2-.9 2-2V5c0-1.1-.9-2-2-2zM9 17H7v-7h2v7zm4 0h-2V7h2v10zm4 0h-2v-4h2v4z\"/>\n",
              "    </g>\n",
              "</svg>\n",
              "  </button>\n",
              "\n",
              "<style>\n",
              "  .colab-df-quickchart {\n",
              "      --bg-color: #E8F0FE;\n",
              "      --fill-color: #1967D2;\n",
              "      --hover-bg-color: #E2EBFA;\n",
              "      --hover-fill-color: #174EA6;\n",
              "      --disabled-fill-color: #AAA;\n",
              "      --disabled-bg-color: #DDD;\n",
              "  }\n",
              "\n",
              "  [theme=dark] .colab-df-quickchart {\n",
              "      --bg-color: #3B4455;\n",
              "      --fill-color: #D2E3FC;\n",
              "      --hover-bg-color: #434B5C;\n",
              "      --hover-fill-color: #FFFFFF;\n",
              "      --disabled-bg-color: #3B4455;\n",
              "      --disabled-fill-color: #666;\n",
              "  }\n",
              "\n",
              "  .colab-df-quickchart {\n",
              "    background-color: var(--bg-color);\n",
              "    border: none;\n",
              "    border-radius: 50%;\n",
              "    cursor: pointer;\n",
              "    display: none;\n",
              "    fill: var(--fill-color);\n",
              "    height: 32px;\n",
              "    padding: 0;\n",
              "    width: 32px;\n",
              "  }\n",
              "\n",
              "  .colab-df-quickchart:hover {\n",
              "    background-color: var(--hover-bg-color);\n",
              "    box-shadow: 0 1px 2px rgba(60, 64, 67, 0.3), 0 1px 3px 1px rgba(60, 64, 67, 0.15);\n",
              "    fill: var(--button-hover-fill-color);\n",
              "  }\n",
              "\n",
              "  .colab-df-quickchart-complete:disabled,\n",
              "  .colab-df-quickchart-complete:disabled:hover {\n",
              "    background-color: var(--disabled-bg-color);\n",
              "    fill: var(--disabled-fill-color);\n",
              "    box-shadow: none;\n",
              "  }\n",
              "\n",
              "  .colab-df-spinner {\n",
              "    border: 2px solid var(--fill-color);\n",
              "    border-color: transparent;\n",
              "    border-bottom-color: var(--fill-color);\n",
              "    animation:\n",
              "      spin 1s steps(1) infinite;\n",
              "  }\n",
              "\n",
              "  @keyframes spin {\n",
              "    0% {\n",
              "      border-color: transparent;\n",
              "      border-bottom-color: var(--fill-color);\n",
              "      border-left-color: var(--fill-color);\n",
              "    }\n",
              "    20% {\n",
              "      border-color: transparent;\n",
              "      border-left-color: var(--fill-color);\n",
              "      border-top-color: var(--fill-color);\n",
              "    }\n",
              "    30% {\n",
              "      border-color: transparent;\n",
              "      border-left-color: var(--fill-color);\n",
              "      border-top-color: var(--fill-color);\n",
              "      border-right-color: var(--fill-color);\n",
              "    }\n",
              "    40% {\n",
              "      border-color: transparent;\n",
              "      border-right-color: var(--fill-color);\n",
              "      border-top-color: var(--fill-color);\n",
              "    }\n",
              "    60% {\n",
              "      border-color: transparent;\n",
              "      border-right-color: var(--fill-color);\n",
              "    }\n",
              "    80% {\n",
              "      border-color: transparent;\n",
              "      border-right-color: var(--fill-color);\n",
              "      border-bottom-color: var(--fill-color);\n",
              "    }\n",
              "    90% {\n",
              "      border-color: transparent;\n",
              "      border-bottom-color: var(--fill-color);\n",
              "    }\n",
              "  }\n",
              "</style>\n",
              "\n",
              "  <script>\n",
              "    async function quickchart(key) {\n",
              "      const quickchartButtonEl =\n",
              "        document.querySelector('#' + key + ' button');\n",
              "      quickchartButtonEl.disabled = true;  // To prevent multiple clicks.\n",
              "      quickchartButtonEl.classList.add('colab-df-spinner');\n",
              "      try {\n",
              "        const charts = await google.colab.kernel.invokeFunction(\n",
              "            'suggestCharts', [key], {});\n",
              "      } catch (error) {\n",
              "        console.error('Error during call to suggestCharts:', error);\n",
              "      }\n",
              "      quickchartButtonEl.classList.remove('colab-df-spinner');\n",
              "      quickchartButtonEl.classList.add('colab-df-quickchart-complete');\n",
              "    }\n",
              "    (() => {\n",
              "      let quickchartButtonEl =\n",
              "        document.querySelector('#df-686848c2-d1b3-47fe-a4a3-10448181c276 button');\n",
              "      quickchartButtonEl.style.display =\n",
              "        google.colab.kernel.accessAllowed ? 'block' : 'none';\n",
              "    })();\n",
              "  </script>\n",
              "</div>\n",
              "\n",
              "    </div>\n",
              "  </div>\n"
            ],
            "application/vnd.google.colaboratory.intrinsic+json": {
              "type": "dataframe",
              "variable_name": "X",
              "summary": "{\n  \"name\": \"X\",\n  \"rows\": 13566,\n  \"fields\": [\n    {\n      \"column\": \"Transaction_ID\",\n      \"properties\": {\n        \"dtype\": \"string\",\n        \"num_unique_values\": 13566,\n        \"samples\": [\n          \"OKXFU\",\n          \"QNALE\",\n          \"RRQRV\"\n        ],\n        \"semantic_type\": \"\",\n        \"description\": \"\"\n      }\n    },\n    {\n      \"column\": \"Source\",\n      \"properties\": {\n        \"dtype\": \"category\",\n        \"num_unique_values\": 4,\n        \"samples\": [\n          \"A\",\n          \"B\",\n          \"D\"\n        ],\n        \"semantic_type\": \"\",\n        \"description\": \"\"\n      }\n    },\n    {\n      \"column\": \"Slot of Booking (Hour of the Day)\",\n      \"properties\": {\n        \"dtype\": \"number\",\n        \"std\": 2,\n        \"min\": 8,\n        \"max\": 17,\n        \"num_unique_values\": 4,\n        \"samples\": [\n          8,\n          11,\n          17\n        ],\n        \"semantic_type\": \"\",\n        \"description\": \"\"\n      }\n    }\n  ]\n}"
            }
          },
          "metadata": {},
          "execution_count": 38
        }
      ],
      "source": [
        "X.head()"
      ]
    },
    {
      "cell_type": "markdown",
      "metadata": {
        "id": "mMwi8YUs8KAc"
      },
      "source": [
        "#### We are required to convert Source to numeric format for ease in Logistic Regression model generation"
      ]
    },
    {
      "cell_type": "code",
      "execution_count": 39,
      "metadata": {
        "id": "QsL_B_jc8KAc"
      },
      "outputs": [],
      "source": [
        "from sklearn.preprocessing import LabelEncoder\n",
        "number = LabelEncoder()\n",
        "X['Source'] = number.fit_transform(X['Source'].astype('str'))\n",
        "\n",
        "#number.fit_transform(x_test['Source'].astype('str')) #GET DUMMIES"
      ]
    },
    {
      "cell_type": "code",
      "execution_count": 40,
      "metadata": {
        "colab": {
          "base_uri": "https://localhost:8080/"
        },
        "id": "gmhsiCob8KAd",
        "outputId": "acf4ff71-ad11-4a1d-e2de-caef213d5592"
      },
      "outputs": [
        {
          "output_type": "execute_result",
          "data": {
            "text/plain": [
              "Source\n",
              "2    4595\n",
              "3    3398\n",
              "1    3367\n",
              "0    2206\n",
              "Name: count, dtype: int64"
            ]
          },
          "metadata": {},
          "execution_count": 40
        }
      ],
      "source": [
        "X['Source'].value_counts()"
      ]
    },
    {
      "cell_type": "code",
      "execution_count": 41,
      "metadata": {
        "colab": {
          "base_uri": "https://localhost:8080/",
          "height": 461
        },
        "id": "wOG5EemP8KAd",
        "outputId": "6f038b46-f37d-4672-85e7-f45f18df742b"
      },
      "outputs": [
        {
          "output_type": "execute_result",
          "data": {
            "text/plain": [
              "<Axes: xlabel='90_day_repeat'>"
            ]
          },
          "metadata": {},
          "execution_count": 41
        },
        {
          "output_type": "display_data",
          "data": {
            "text/plain": [
              "<Figure size 640x480 with 1 Axes>"
            ],
            "image/png": "[encoded data removed]"
          },
          "metadata": {}
        }
      ],
      "source": [
        "(y.value_counts()).plot.bar()"
      ]
    },
    {
      "cell_type": "markdown",
      "metadata": {
        "id": "RmijXkIM8KAd"
      },
      "source": [
        "## As mentioned earlier, due to the imbalance in data we will be required to balance the data out"
      ]
    },
    {
      "cell_type": "code",
      "execution_count": 42,
      "metadata": {
        "colab": {
          "base_uri": "https://localhost:8080/",
          "height": 74
        },
        "id": "4QN55xr38KAd",
        "outputId": "79bf342b-f7a2-4e2f-dac2-d248c940a65f"
      },
      "outputs": [
        {
          "output_type": "execute_result",
          "data": {
            "text/plain": [
              "LogisticRegression(class_weight='balanced')"
            ],
            "text/html": [
              "<style>#sk-container-id-1 {color: black;background-color: white;}#sk-container-id-1 pre{padding: 0;}#sk-container-id-1 div.sk-toggleable {background-color: white;}#sk-container-id-1 label.sk-toggleable__label {cursor: pointer;display: block;width: 100%;margin-bottom: 0;padding: 0.3em;box-sizing: border-box;text-align: center;}#sk-container-id-1 label.sk-toggleable__label-arrow:before {content: \"▸\";float: left;margin-right: 0.25em;color: #696969;}#sk-container-id-1 label.sk-toggleable__label-arrow:hover:before {color: black;}#sk-container-id-1 div.sk-estimator:hover label.sk-toggleable__label-arrow:before {color: black;}#sk-container-id-1 div.sk-toggleable__content {max-height: 0;max-width: 0;overflow: hidden;text-align: left;background-color: #f0f8ff;}#sk-container-id-1 div.sk-toggleable__content pre {margin: 0.2em;color: black;border-radius: 0.25em;background-color: #f0f8ff;}#sk-container-id-1 input.sk-toggleable__control:checked~div.sk-toggleable__content {max-height: 200px;max-width: 100%;overflow: auto;}#sk-container-id-1 input.sk-toggleable__control:checked~label.sk-toggleable__label-arrow:before {content: \"▾\";}#sk-container-id-1 div.sk-estimator input.sk-toggleable__control:checked~label.sk-toggleable__label {background-color: #d4ebff;}#sk-container-id-1 div.sk-label input.sk-toggleable__control:checked~label.sk-toggleable__label {background-color: #d4ebff;}#sk-container-id-1 input.sk-hidden--visually {border: 0;clip: rect(1px 1px 1px 1px);clip: rect(1px, 1px, 1px, 1px);height: 1px;margin: -1px;overflow: hidden;padding: 0;position: absolute;width: 1px;}#sk-container-id-1 div.sk-estimator {font-family: monospace;background-color: #f0f8ff;border: 1px dotted black;border-radius: 0.25em;box-sizing: border-box;margin-bottom: 0.5em;}#sk-container-id-1 div.sk-estimator:hover {background-color: #d4ebff;}#sk-container-id-1 div.sk-parallel-item::after {content: \"\";width: 100%;border-bottom: 1px solid gray;flex-grow: 1;}#sk-container-id-1 div.sk-label:hover label.sk-toggleable__label {background-color: #d4ebff;}#sk-container-id-1 div.sk-serial::before {content: \"\";position: absolute;border-left: 1px solid gray;box-sizing: border-box;top: 0;bottom: 0;left: 50%;z-index: 0;}#sk-container-id-1 div.sk-serial {display: flex;flex-direction: column;align-items: center;background-color: white;padding-right: 0.2em;padding-left: 0.2em;position: relative;}#sk-container-id-1 div.sk-item {position: relative;z-index: 1;}#sk-container-id-1 div.sk-parallel {display: flex;align-items: stretch;justify-content: center;background-color: white;position: relative;}#sk-container-id-1 div.sk-item::before, #sk-container-id-1 div.sk-parallel-item::before {content: \"\";position: absolute;border-left: 1px solid gray;box-sizing: border-box;top: 0;bottom: 0;left: 50%;z-index: -1;}#sk-container-id-1 div.sk-parallel-item {display: flex;flex-direction: column;z-index: 1;position: relative;background-color: white;}#sk-container-id-1 div.sk-parallel-item:first-child::after {align-self: flex-end;width: 50%;}#sk-container-id-1 div.sk-parallel-item:last-child::after {align-self: flex-start;width: 50%;}#sk-container-id-1 div.sk-parallel-item:only-child::after {width: 0;}#sk-container-id-1 div.sk-dashed-wrapped {border: 1px dashed gray;margin: 0 0.4em 0.5em 0.4em;box-sizing: border-box;padding-bottom: 0.4em;background-color: white;}#sk-container-id-1 div.sk-label label {font-family: monospace;font-weight: bold;display: inline-block;line-height: 1.2em;}#sk-container-id-1 div.sk-label-container {text-align: center;}#sk-container-id-1 div.sk-container {/* jupyter's `normalize.less` sets `[hidden] { display: none; }` but bootstrap.min.css set `[hidden] { display: none !important; }` so we also need the `!important` here to be able to override the default hidden behavior on the sphinx rendered scikit-learn.org. See: https://github.com/scikit-learn/scikit-learn/issues/21755 */display: inline-block !important;position: relative;}#sk-container-id-1 div.sk-text-repr-fallback {display: none;}</style><div id=\"sk-container-id-1\" class=\"sk-top-container\"><div class=\"sk-text-repr-fallback\"><pre>LogisticRegression(class_weight=&#x27;balanced&#x27;)</pre><b>In a Jupyter environment, please rerun this cell to show the HTML representation or trust the notebook. <br />On GitHub, the HTML representation is unable to render, please try loading this page with nbviewer.org.</b></div><div class=\"sk-container\" hidden><div class=\"sk-item\"><div class=\"sk-estimator sk-toggleable\"><input class=\"sk-toggleable__control sk-hidden--visually\" id=\"sk-estimator-id-1\" type=\"checkbox\" checked><label for=\"sk-estimator-id-1\" class=\"sk-toggleable__label sk-toggleable__label-arrow\">LogisticRegression</label><div class=\"sk-toggleable__content\"><pre>LogisticRegression(class_weight=&#x27;balanced&#x27;)</pre></div></div></div></div></div>"
            ]
          },
          "metadata": {},
          "execution_count": 42
        }
      ],
      "source": [
        "logisticRegr = LogisticRegression(class_weight = 'balanced') # Generating a logistic regression model\n",
        "logisticRegr.fit(X,y)"
      ]
    },
    {
      "cell_type": "markdown",
      "metadata": {
        "id": "-SxtSXYm8KAd"
      },
      "source": [
        "#### Side Note :  Also tried balancing out data using SMOTE, it produced the same results"
      ]
    },
    {
      "cell_type": "markdown",
      "metadata": {
        "id": "AUGig71y8KAe"
      },
      "source": [
        "## Preparing the Nov 2018 data"
      ]
    },
    {
      "cell_type": "code",
      "execution_count": 43,
      "metadata": {
        "colab": {
          "base_uri": "https://localhost:8080/",
          "height": 206
        },
        "id": "XBI6xwuF8KAe",
        "outputId": "b2d71e4f-a2ff-4e7e-8d56-f869e569b26d"
      },
      "outputs": [
        {
          "output_type": "execute_result",
          "data": {
            "text/plain": [
              "      Transaction_ID  Profile ID Date_of_Booking Date_of_Service_Requested  \\\n",
              "19980          CSOCG       10709      2018-11-01                2018-11-02   \n",
              "24338          BPWLE       13034      2018-11-01                2018-11-06   \n",
              "7255           YYFGQ        3860      2018-11-01                2018-11-03   \n",
              "24386          YBNUC       13061      2018-11-01                2018-11-06   \n",
              "10666          FOBFD        5776      2018-11-01                2018-11-01   \n",
              "\n",
              "      Source  Slot of Booking (Hour of the Day) Month_of_Booking  \n",
              "19980      D                                 11          2018-11  \n",
              "24338      C                                 14          2018-11  \n",
              "7255       C                                 13          2018-11  \n",
              "24386      B                                 13          2018-11  \n",
              "10666      B                                 14          2018-11  "
            ],
            "text/html": [
              "\n",
              "  <div id=\"df-19f59c2c-f55d-4c23-b04e-9ab3fe476b96\" class=\"colab-df-container\">\n",
              "    <div>\n",
              "<style scoped>\n",
              "    .dataframe tbody tr th:only-of-type {\n",
              "        vertical-align: middle;\n",
              "    }\n",
              "\n",
              "    .dataframe tbody tr th {\n",
              "        vertical-align: top;\n",
              "    }\n",
              "\n",
              "    .dataframe thead th {\n",
              "        text-align: right;\n",
              "    }\n",
              "</style>\n",
              "<table border=\"1\" class=\"dataframe\">\n",
              "  <thead>\n",
              "    <tr style=\"text-align: right;\">\n",
              "      <th></th>\n",
              "      <th>Transaction_ID</th>\n",
              "      <th>Profile ID</th>\n",
              "      <th>Date_of_Booking</th>\n",
              "      <th>Date_of_Service_Requested</th>\n",
              "      <th>Source</th>\n",
              "      <th>Slot of Booking (Hour of the Day)</th>\n",
              "      <th>Month_of_Booking</th>\n",
              "    </tr>\n",
              "  </thead>\n",
              "  <tbody>\n",
              "    <tr>\n",
              "      <th>19980</th>\n",
              "      <td>CSOCG</td>\n",
              "      <td>10709</td>\n",
              "      <td>2018-11-01</td>\n",
              "      <td>2018-11-02</td>\n",
              "      <td>D</td>\n",
              "      <td>11</td>\n",
              "      <td>2018-11</td>\n",
              "    </tr>\n",
              "    <tr>\n",
              "      <th>24338</th>\n",
              "      <td>BPWLE</td>\n",
              "      <td>13034</td>\n",
              "      <td>2018-11-01</td>\n",
              "      <td>2018-11-06</td>\n",
              "      <td>C</td>\n",
              "      <td>14</td>\n",
              "      <td>2018-11</td>\n",
              "    </tr>\n",
              "    <tr>\n",
              "      <th>7255</th>\n",
              "      <td>YYFGQ</td>\n",
              "      <td>3860</td>\n",
              "      <td>2018-11-01</td>\n",
              "      <td>2018-11-03</td>\n",
              "      <td>C</td>\n",
              "      <td>13</td>\n",
              "      <td>2018-11</td>\n",
              "    </tr>\n",
              "    <tr>\n",
              "      <th>24386</th>\n",
              "      <td>YBNUC</td>\n",
              "      <td>13061</td>\n",
              "      <td>2018-11-01</td>\n",
              "      <td>2018-11-06</td>\n",
              "      <td>B</td>\n",
              "      <td>13</td>\n",
              "      <td>2018-11</td>\n",
              "    </tr>\n",
              "    <tr>\n",
              "      <th>10666</th>\n",
              "      <td>FOBFD</td>\n",
              "      <td>5776</td>\n",
              "      <td>2018-11-01</td>\n",
              "      <td>2018-11-01</td>\n",
              "      <td>B</td>\n",
              "      <td>14</td>\n",
              "      <td>2018-11</td>\n",
              "    </tr>\n",
              "  </tbody>\n",
              "</table>\n",
              "</div>\n",
              "    <div class=\"colab-df-buttons\">\n",
              "\n",
              "  <div class=\"colab-df-container\">\n",
              "    <button class=\"colab-df-convert\" onclick=\"convertToInteractive('df-19f59c2c-f55d-4c23-b04e-9ab3fe476b96')\"\n",
              "            title=\"Convert this dataframe to an interactive table.\"\n",
              "            style=\"display:none;\">\n",
              "\n",
              "  <svg xmlns=\"http://www.w3.org/2000/svg\" height=\"24px\" viewBox=\"0 -960 960 960\">\n",
              "    <path d=\"M120-120v-720h720v720H120Zm60-500h600v-160H180v160Zm220 220h160v-160H400v160Zm0 220h160v-160H400v160ZM180-400h160v-160H180v160Zm440 0h160v-160H620v160ZM180-180h160v-160H180v160Zm440 0h160v-160H620v160Z\"/>\n",
              "  </svg>\n",
              "    </button>\n",
              "\n",
              "  <style>\n",
              "    .colab-df-container {\n",
              "      display:flex;\n",
              "      gap: 12px;\n",
              "    }\n",
              "\n",
              "    .colab-df-convert {\n",
              "      background-color: #E8F0FE;\n",
              "      border: none;\n",
              "      border-radius: 50%;\n",
              "      cursor: pointer;\n",
              "      display: none;\n",
              "      fill: #1967D2;\n",
              "      height: 32px;\n",
              "      padding: 0 0 0 0;\n",
              "      width: 32px;\n",
              "    }\n",
              "\n",
              "    .colab-df-convert:hover {\n",
              "      background-color: #E2EBFA;\n",
              "      box-shadow: 0px 1px 2px rgba(60, 64, 67, 0.3), 0px 1px 3px 1px rgba(60, 64, 67, 0.15);\n",
              "      fill: #174EA6;\n",
              "    }\n",
              "\n",
              "    .colab-df-buttons div {\n",
              "      margin-bottom: 4px;\n",
              "    }\n",
              "\n",
              "    [theme=dark] .colab-df-convert {\n",
              "      background-color: #3B4455;\n",
              "      fill: #D2E3FC;\n",
              "    }\n",
              "\n",
              "    [theme=dark] .colab-df-convert:hover {\n",
              "      background-color: #434B5C;\n",
              "      box-shadow: 0px 1px 3px 1px rgba(0, 0, 0, 0.15);\n",
              "      filter: drop-shadow(0px 1px 2px rgba(0, 0, 0, 0.3));\n",
              "      fill: #FFFFFF;\n",
              "    }\n",
              "  </style>\n",
              "\n",
              "    <script>\n",
              "      const buttonEl =\n",
              "        document.querySelector('#df-19f59c2c-f55d-4c23-b04e-9ab3fe476b96 button.colab-df-convert');\n",
              "      buttonEl.style.display =\n",
              "        google.colab.kernel.accessAllowed ? 'block' : 'none';\n",
              "\n",
              "      async function convertToInteractive(key) {\n",
              "        const element = document.querySelector('#df-19f59c2c-f55d-4c23-b04e-9ab3fe476b96');\n",
              "        const dataTable =\n",
              "          await google.colab.kernel.invokeFunction('convertToInteractive',\n",
              "                                                    [key], {});\n",
              "        if (!dataTable) return;\n",
              "\n",
              "        const docLinkHtml = 'Like what you see? Visit the ' +\n",
              "          '<a target=\"_blank\" href=https://colab.research.google.com/notebooks/data_table.ipynb>data table notebook</a>'\n",
              "          + ' to learn more about interactive tables.';\n",
              "        element.innerHTML = '';\n",
              "        dataTable['output_type'] = 'display_data';\n",
              "        await google.colab.output.renderOutput(dataTable, element);\n",
              "        const docLink = document.createElement('div');\n",
              "        docLink.innerHTML = docLinkHtml;\n",
              "        element.appendChild(docLink);\n",
              "      }\n",
              "    </script>\n",
              "  </div>\n",
              "\n",
              "\n",
              "<div id=\"df-b20b94a8-1f2d-4fcd-b78f-e1891a3d5c68\">\n",
              "  <button class=\"colab-df-quickchart\" onclick=\"quickchart('df-b20b94a8-1f2d-4fcd-b78f-e1891a3d5c68')\"\n",
              "            title=\"Suggest charts\"\n",
              "            style=\"display:none;\">\n",
              "\n",
              "<svg xmlns=\"http://www.w3.org/2000/svg\" height=\"24px\"viewBox=\"0 0 24 24\"\n",
              "     width=\"24px\">\n",
              "    <g>\n",
              "        <path d=\"M19 3H5c-1.1 0-2 .9-2 2v14c0 1.1.9 2 2 2h14c1.1 0 2-.9 2-2V5c0-1.1-.9-2-2-2zM9 17H7v-7h2v7zm4 0h-2V7h2v10zm4 0h-2v-4h2v4z\"/>\n",
              "    </g>\n",
              "</svg>\n",
              "  </button>\n",
              "\n",
              "<style>\n",
              "  .colab-df-quickchart {\n",
              "      --bg-color: #E8F0FE;\n",
              "      --fill-color: #1967D2;\n",
              "      --hover-bg-color: #E2EBFA;\n",
              "      --hover-fill-color: #174EA6;\n",
              "      --disabled-fill-color: #AAA;\n",
              "      --disabled-bg-color: #DDD;\n",
              "  }\n",
              "\n",
              "  [theme=dark] .colab-df-quickchart {\n",
              "      --bg-color: #3B4455;\n",
              "      --fill-color: #D2E3FC;\n",
              "      --hover-bg-color: #434B5C;\n",
              "      --hover-fill-color: #FFFFFF;\n",
              "      --disabled-bg-color: #3B4455;\n",
              "      --disabled-fill-color: #666;\n",
              "  }\n",
              "\n",
              "  .colab-df-quickchart {\n",
              "    background-color: var(--bg-color);\n",
              "    border: none;\n",
              "    border-radius: 50%;\n",
              "    cursor: pointer;\n",
              "    display: none;\n",
              "    fill: var(--fill-color);\n",
              "    height: 32px;\n",
              "    padding: 0;\n",
              "    width: 32px;\n",
              "  }\n",
              "\n",
              "  .colab-df-quickchart:hover {\n",
              "    background-color: var(--hover-bg-color);\n",
              "    box-shadow: 0 1px 2px rgba(60, 64, 67, 0.3), 0 1px 3px 1px rgba(60, 64, 67, 0.15);\n",
              "    fill: var(--button-hover-fill-color);\n",
              "  }\n",
              "\n",
              "  .colab-df-quickchart-complete:disabled,\n",
              "  .colab-df-quickchart-complete:disabled:hover {\n",
              "    background-color: var(--disabled-bg-color);\n",
              "    fill: var(--disabled-fill-color);\n",
              "    box-shadow: none;\n",
              "  }\n",
              "\n",
              "  .colab-df-spinner {\n",
              "    border: 2px solid var(--fill-color);\n",
              "    border-color: transparent;\n",
              "    border-bottom-color: var(--fill-color);\n",
              "    animation:\n",
              "      spin 1s steps(1) infinite;\n",
              "  }\n",
              "\n",
              "  @keyframes spin {\n",
              "    0% {\n",
              "      border-color: transparent;\n",
              "      border-bottom-color: var(--fill-color);\n",
              "      border-left-color: var(--fill-color);\n",
              "    }\n",
              "    20% {\n",
              "      border-color: transparent;\n",
              "      border-left-color: var(--fill-color);\n",
              "      border-top-color: var(--fill-color);\n",
              "    }\n",
              "    30% {\n",
              "      border-color: transparent;\n",
              "      border-left-color: var(--fill-color);\n",
              "      border-top-color: var(--fill-color);\n",
              "      border-right-color: var(--fill-color);\n",
              "    }\n",
              "    40% {\n",
              "      border-color: transparent;\n",
              "      border-right-color: var(--fill-color);\n",
              "      border-top-color: var(--fill-color);\n",
              "    }\n",
              "    60% {\n",
              "      border-color: transparent;\n",
              "      border-right-color: var(--fill-color);\n",
              "    }\n",
              "    80% {\n",
              "      border-color: transparent;\n",
              "      border-right-color: var(--fill-color);\n",
              "      border-bottom-color: var(--fill-color);\n",
              "    }\n",
              "    90% {\n",
              "      border-color: transparent;\n",
              "      border-bottom-color: var(--fill-color);\n",
              "    }\n",
              "  }\n",
              "</style>\n",
              "\n",
              "  <script>\n",
              "    async function quickchart(key) {\n",
              "      const quickchartButtonEl =\n",
              "        document.querySelector('#' + key + ' button');\n",
              "      quickchartButtonEl.disabled = true;  // To prevent multiple clicks.\n",
              "      quickchartButtonEl.classList.add('colab-df-spinner');\n",
              "      try {\n",
              "        const charts = await google.colab.kernel.invokeFunction(\n",
              "            'suggestCharts', [key], {});\n",
              "      } catch (error) {\n",
              "        console.error('Error during call to suggestCharts:', error);\n",
              "      }\n",
              "      quickchartButtonEl.classList.remove('colab-df-spinner');\n",
              "      quickchartButtonEl.classList.add('colab-df-quickchart-complete');\n",
              "    }\n",
              "    (() => {\n",
              "      let quickchartButtonEl =\n",
              "        document.querySelector('#df-b20b94a8-1f2d-4fcd-b78f-e1891a3d5c68 button');\n",
              "      quickchartButtonEl.style.display =\n",
              "        google.colab.kernel.accessAllowed ? 'block' : 'none';\n",
              "    })();\n",
              "  </script>\n",
              "</div>\n",
              "\n",
              "    </div>\n",
              "  </div>\n"
            ],
            "application/vnd.google.colaboratory.intrinsic+json": {
              "type": "dataframe",
              "variable_name": "df_nov",
              "summary": "{\n  \"name\": \"df_nov\",\n  \"rows\": 1015,\n  \"fields\": [\n    {\n      \"column\": \"Transaction_ID\",\n      \"properties\": {\n        \"dtype\": \"string\",\n        \"num_unique_values\": 1015,\n        \"samples\": [\n          \"AYLGF\",\n          \"BNPOG\",\n          \"UGCUF\"\n        ],\n        \"semantic_type\": \"\",\n        \"description\": \"\"\n      }\n    },\n    {\n      \"column\": \"Profile ID\",\n      \"properties\": {\n        \"dtype\": \"number\",\n        \"std\": 4817,\n        \"min\": 2,\n        \"max\": 16694,\n        \"num_unique_values\": 1015,\n        \"samples\": [\n          9444,\n          9878,\n          2104\n        ],\n        \"semantic_type\": \"\",\n        \"description\": \"\"\n      }\n    },\n    {\n      \"column\": \"Date_of_Booking\",\n      \"properties\": {\n        \"dtype\": \"date\",\n        \"min\": \"2018-11-01 00:00:00\",\n        \"max\": \"2018-11-30 00:00:00\",\n        \"num_unique_values\": 30,\n        \"samples\": [\n          \"2018-11-28 00:00:00\",\n          \"2018-11-16 00:00:00\",\n          \"2018-11-24 00:00:00\"\n        ],\n        \"semantic_type\": \"\",\n        \"description\": \"\"\n      }\n    },\n    {\n      \"column\": \"Date_of_Service_Requested\",\n      \"properties\": {\n        \"dtype\": \"date\",\n        \"min\": \"2018-11-01 00:00:00\",\n        \"max\": \"2018-12-05 00:00:00\",\n        \"num_unique_values\": 35,\n        \"samples\": [\n          \"2018-11-27 00:00:00\",\n          \"2018-11-14 00:00:00\",\n          \"2018-11-25 00:00:00\"\n        ],\n        \"semantic_type\": \"\",\n        \"description\": \"\"\n      }\n    },\n    {\n      \"column\": \"Source\",\n      \"properties\": {\n        \"dtype\": \"category\",\n        \"num_unique_values\": 4,\n        \"samples\": [\n          \"C\",\n          \"A\",\n          \"D\"\n        ],\n        \"semantic_type\": \"\",\n        \"description\": \"\"\n      }\n    },\n    {\n      \"column\": \"Slot of Booking (Hour of the Day)\",\n      \"properties\": {\n        \"dtype\": \"number\",\n        \"std\": 3,\n        \"min\": 6,\n        \"max\": 19,\n        \"num_unique_values\": 14,\n        \"samples\": [\n          8,\n          18,\n          11\n        ],\n        \"semantic_type\": \"\",\n        \"description\": \"\"\n      }\n    },\n    {\n      \"column\": \"Month_of_Booking\",\n      \"properties\": {\n        \"dtype\": \"period[M]\",\n        \"num_unique_values\": 1,\n        \"samples\": [\n          \"2018-11\"\n        ],\n        \"semantic_type\": \"\",\n        \"description\": \"\"\n      }\n    }\n  ]\n}"
            }
          },
          "metadata": {},
          "execution_count": 43
        }
      ],
      "source": [
        "import datetime as dt\n",
        "from sklearn.preprocessing import LabelEncoder\n",
        "number = LabelEncoder()\n",
        "\n",
        "df_nov = df_sorted.drop_duplicates('Profile ID',keep = 'first')\n",
        "df_nov = df_nov[df_nov[\"Date_of_Booking\"] >= '2018-11-01']\n",
        "df_nov.head()"
      ]
    },
    {
      "cell_type": "code",
      "execution_count": 44,
      "metadata": {
        "colab": {
          "base_uri": "https://localhost:8080/",
          "height": 223
        },
        "id": "Dz7k_Pm68KAe",
        "outputId": "dad660ab-0d48-49a0-a4e8-ca052d64dca1"
      },
      "outputs": [
        {
          "output_type": "execute_result",
          "data": {
            "text/plain": [
              "      Transaction_ID  Profile ID  Date_of_Booking  Date_of_Service_Requested  \\\n",
              "19980          CSOCG       10709           736999                     737000   \n",
              "24338          BPWLE       13034           736999                     737004   \n",
              "7255           YYFGQ        3860           736999                     737001   \n",
              "24386          YBNUC       13061           736999                     737004   \n",
              "10666          FOBFD        5776           736999                     736999   \n",
              "\n",
              "      Source  Slot of Booking (Hour of the Day) Month_of_Booking  Gap  \n",
              "19980      D                                 11          2018-11    1  \n",
              "24338      C                                 14          2018-11    5  \n",
              "7255       C                                 13          2018-11    2  \n",
              "24386      B                                 13          2018-11    5  \n",
              "10666      B                                 14          2018-11    0  "
            ],
            "text/html": [
              "\n",
              "  <div id=\"df-a4bb7b32-d6cd-4847-a883-3bab6c914e6d\" class=\"colab-df-container\">\n",
              "    <div>\n",
              "<style scoped>\n",
              "    .dataframe tbody tr th:only-of-type {\n",
              "        vertical-align: middle;\n",
              "    }\n",
              "\n",
              "    .dataframe tbody tr th {\n",
              "        vertical-align: top;\n",
              "    }\n",
              "\n",
              "    .dataframe thead th {\n",
              "        text-align: right;\n",
              "    }\n",
              "</style>\n",
              "<table border=\"1\" class=\"dataframe\">\n",
              "  <thead>\n",
              "    <tr style=\"text-align: right;\">\n",
              "      <th></th>\n",
              "      <th>Transaction_ID</th>\n",
              "      <th>Profile ID</th>\n",
              "      <th>Date_of_Booking</th>\n",
              "      <th>Date_of_Service_Requested</th>\n",
              "      <th>Source</th>\n",
              "      <th>Slot of Booking (Hour of the Day)</th>\n",
              "      <th>Month_of_Booking</th>\n",
              "      <th>Gap</th>\n",
              "    </tr>\n",
              "  </thead>\n",
              "  <tbody>\n",
              "    <tr>\n",
              "      <th>19980</th>\n",
              "      <td>CSOCG</td>\n",
              "      <td>10709</td>\n",
              "      <td>736999</td>\n",
              "      <td>737000</td>\n",
              "      <td>D</td>\n",
              "      <td>11</td>\n",
              "      <td>2018-11</td>\n",
              "      <td>1</td>\n",
              "    </tr>\n",
              "    <tr>\n",
              "      <th>24338</th>\n",
              "      <td>BPWLE</td>\n",
              "      <td>13034</td>\n",
              "      <td>736999</td>\n",
              "      <td>737004</td>\n",
              "      <td>C</td>\n",
              "      <td>14</td>\n",
              "      <td>2018-11</td>\n",
              "      <td>5</td>\n",
              "    </tr>\n",
              "    <tr>\n",
              "      <th>7255</th>\n",
              "      <td>YYFGQ</td>\n",
              "      <td>3860</td>\n",
              "      <td>736999</td>\n",
              "      <td>737001</td>\n",
              "      <td>C</td>\n",
              "      <td>13</td>\n",
              "      <td>2018-11</td>\n",
              "      <td>2</td>\n",
              "    </tr>\n",
              "    <tr>\n",
              "      <th>24386</th>\n",
              "      <td>YBNUC</td>\n",
              "      <td>13061</td>\n",
              "      <td>736999</td>\n",
              "      <td>737004</td>\n",
              "      <td>B</td>\n",
              "      <td>13</td>\n",
              "      <td>2018-11</td>\n",
              "      <td>5</td>\n",
              "    </tr>\n",
              "    <tr>\n",
              "      <th>10666</th>\n",
              "      <td>FOBFD</td>\n",
              "      <td>5776</td>\n",
              "      <td>736999</td>\n",
              "      <td>736999</td>\n",
              "      <td>B</td>\n",
              "      <td>14</td>\n",
              "      <td>2018-11</td>\n",
              "      <td>0</td>\n",
              "    </tr>\n",
              "  </tbody>\n",
              "</table>\n",
              "</div>\n",
              "    <div class=\"colab-df-buttons\">\n",
              "\n",
              "  <div class=\"colab-df-container\">\n",
              "    <button class=\"colab-df-convert\" onclick=\"convertToInteractive('df-a4bb7b32-d6cd-4847-a883-3bab6c914e6d')\"\n",
              "            title=\"Convert this dataframe to an interactive table.\"\n",
              "            style=\"display:none;\">\n",
              "\n",
              "  <svg xmlns=\"http://www.w3.org/2000/svg\" height=\"24px\" viewBox=\"0 -960 960 960\">\n",
              "    <path d=\"M120-120v-720h720v720H120Zm60-500h600v-160H180v160Zm220 220h160v-160H400v160Zm0 220h160v-160H400v160ZM180-400h160v-160H180v160Zm440 0h160v-160H620v160ZM180-180h160v-160H180v160Zm440 0h160v-160H620v160Z\"/>\n",
              "  </svg>\n",
              "    </button>\n",
              "\n",
              "  <style>\n",
              "    .colab-df-container {\n",
              "      display:flex;\n",
              "      gap: 12px;\n",
              "    }\n",
              "\n",
              "    .colab-df-convert {\n",
              "      background-color: #E8F0FE;\n",
              "      border: none;\n",
              "      border-radius: 50%;\n",
              "      cursor: pointer;\n",
              "      display: none;\n",
              "      fill: #1967D2;\n",
              "      height: 32px;\n",
              "      padding: 0 0 0 0;\n",
              "      width: 32px;\n",
              "    }\n",
              "\n",
              "    .colab-df-convert:hover {\n",
              "      background-color: #E2EBFA;\n",
              "      box-shadow: 0px 1px 2px rgba(60, 64, 67, 0.3), 0px 1px 3px 1px rgba(60, 64, 67, 0.15);\n",
              "      fill: #174EA6;\n",
              "    }\n",
              "\n",
              "    .colab-df-buttons div {\n",
              "      margin-bottom: 4px;\n",
              "    }\n",
              "\n",
              "    [theme=dark] .colab-df-convert {\n",
              "      background-color: #3B4455;\n",
              "      fill: #D2E3FC;\n",
              "    }\n",
              "\n",
              "    [theme=dark] .colab-df-convert:hover {\n",
              "      background-color: #434B5C;\n",
              "      box-shadow: 0px 1px 3px 1px rgba(0, 0, 0, 0.15);\n",
              "      filter: drop-shadow(0px 1px 2px rgba(0, 0, 0, 0.3));\n",
              "      fill: #FFFFFF;\n",
              "    }\n",
              "  </style>\n",
              "\n",
              "    <script>\n",
              "      const buttonEl =\n",
              "        document.querySelector('#df-a4bb7b32-d6cd-4847-a883-3bab6c914e6d button.colab-df-convert');\n",
              "      buttonEl.style.display =\n",
              "        google.colab.kernel.accessAllowed ? 'block' : 'none';\n",
              "\n",
              "      async function convertToInteractive(key) {\n",
              "        const element = document.querySelector('#df-a4bb7b32-d6cd-4847-a883-3bab6c914e6d');\n",
              "        const dataTable =\n",
              "          await google.colab.kernel.invokeFunction('convertToInteractive',\n",
              "                                                    [key], {});\n",
              "        if (!dataTable) return;\n",
              "\n",
              "        const docLinkHtml = 'Like what you see? Visit the ' +\n",
              "          '<a target=\"_blank\" href=https://colab.research.google.com/notebooks/data_table.ipynb>data table notebook</a>'\n",
              "          + ' to learn more about interactive tables.';\n",
              "        element.innerHTML = '';\n",
              "        dataTable['output_type'] = 'display_data';\n",
              "        await google.colab.output.renderOutput(dataTable, element);\n",
              "        const docLink = document.createElement('div');\n",
              "        docLink.innerHTML = docLinkHtml;\n",
              "        element.appendChild(docLink);\n",
              "      }\n",
              "    </script>\n",
              "  </div>\n",
              "\n",
              "\n",
              "<div id=\"df-3de2570b-c896-4a68-9a5c-5724e4af126a\">\n",
              "  <button class=\"colab-df-quickchart\" onclick=\"quickchart('df-3de2570b-c896-4a68-9a5c-5724e4af126a')\"\n",
              "            title=\"Suggest charts\"\n",
              "            style=\"display:none;\">\n",
              "\n",
              "<svg xmlns=\"http://www.w3.org/2000/svg\" height=\"24px\"viewBox=\"0 0 24 24\"\n",
              "     width=\"24px\">\n",
              "    <g>\n",
              "        <path d=\"M19 3H5c-1.1 0-2 .9-2 2v14c0 1.1.9 2 2 2h14c1.1 0 2-.9 2-2V5c0-1.1-.9-2-2-2zM9 17H7v-7h2v7zm4 0h-2V7h2v10zm4 0h-2v-4h2v4z\"/>\n",
              "    </g>\n",
              "</svg>\n",
              "  </button>\n",
              "\n",
              "<style>\n",
              "  .colab-df-quickchart {\n",
              "      --bg-color: #E8F0FE;\n",
              "      --fill-color: #1967D2;\n",
              "      --hover-bg-color: #E2EBFA;\n",
              "      --hover-fill-color: #174EA6;\n",
              "      --disabled-fill-color: #AAA;\n",
              "      --disabled-bg-color: #DDD;\n",
              "  }\n",
              "\n",
              "  [theme=dark] .colab-df-quickchart {\n",
              "      --bg-color: #3B4455;\n",
              "      --fill-color: #D2E3FC;\n",
              "      --hover-bg-color: #434B5C;\n",
              "      --hover-fill-color: #FFFFFF;\n",
              "      --disabled-bg-color: #3B4455;\n",
              "      --disabled-fill-color: #666;\n",
              "  }\n",
              "\n",
              "  .colab-df-quickchart {\n",
              "    background-color: var(--bg-color);\n",
              "    border: none;\n",
              "    border-radius: 50%;\n",
              "    cursor: pointer;\n",
              "    display: none;\n",
              "    fill: var(--fill-color);\n",
              "    height: 32px;\n",
              "    padding: 0;\n",
              "    width: 32px;\n",
              "  }\n",
              "\n",
              "  .colab-df-quickchart:hover {\n",
              "    background-color: var(--hover-bg-color);\n",
              "    box-shadow: 0 1px 2px rgba(60, 64, 67, 0.3), 0 1px 3px 1px rgba(60, 64, 67, 0.15);\n",
              "    fill: var(--button-hover-fill-color);\n",
              "  }\n",
              "\n",
              "  .colab-df-quickchart-complete:disabled,\n",
              "  .colab-df-quickchart-complete:disabled:hover {\n",
              "    background-color: var(--disabled-bg-color);\n",
              "    fill: var(--disabled-fill-color);\n",
              "    box-shadow: none;\n",
              "  }\n",
              "\n",
              "  .colab-df-spinner {\n",
              "    border: 2px solid var(--fill-color);\n",
              "    border-color: transparent;\n",
              "    border-bottom-color: var(--fill-color);\n",
              "    animation:\n",
              "      spin 1s steps(1) infinite;\n",
              "  }\n",
              "\n",
              "  @keyframes spin {\n",
              "    0% {\n",
              "      border-color: transparent;\n",
              "      border-bottom-color: var(--fill-color);\n",
              "      border-left-color: var(--fill-color);\n",
              "    }\n",
              "    20% {\n",
              "      border-color: transparent;\n",
              "      border-left-color: var(--fill-color);\n",
              "      border-top-color: var(--fill-color);\n",
              "    }\n",
              "    30% {\n",
              "      border-color: transparent;\n",
              "      border-left-color: var(--fill-color);\n",
              "      border-top-color: var(--fill-color);\n",
              "      border-right-color: var(--fill-color);\n",
              "    }\n",
              "    40% {\n",
              "      border-color: transparent;\n",
              "      border-right-color: var(--fill-color);\n",
              "      border-top-color: var(--fill-color);\n",
              "    }\n",
              "    60% {\n",
              "      border-color: transparent;\n",
              "      border-right-color: var(--fill-color);\n",
              "    }\n",
              "    80% {\n",
              "      border-color: transparent;\n",
              "      border-right-color: var(--fill-color);\n",
              "      border-bottom-color: var(--fill-color);\n",
              "    }\n",
              "    90% {\n",
              "      border-color: transparent;\n",
              "      border-bottom-color: var(--fill-color);\n",
              "    }\n",
              "  }\n",
              "</style>\n",
              "\n",
              "  <script>\n",
              "    async function quickchart(key) {\n",
              "      const quickchartButtonEl =\n",
              "        document.querySelector('#' + key + ' button');\n",
              "      quickchartButtonEl.disabled = true;  // To prevent multiple clicks.\n",
              "      quickchartButtonEl.classList.add('colab-df-spinner');\n",
              "      try {\n",
              "        const charts = await google.colab.kernel.invokeFunction(\n",
              "            'suggestCharts', [key], {});\n",
              "      } catch (error) {\n",
              "        console.error('Error during call to suggestCharts:', error);\n",
              "      }\n",
              "      quickchartButtonEl.classList.remove('colab-df-spinner');\n",
              "      quickchartButtonEl.classList.add('colab-df-quickchart-complete');\n",
              "    }\n",
              "    (() => {\n",
              "      let quickchartButtonEl =\n",
              "        document.querySelector('#df-3de2570b-c896-4a68-9a5c-5724e4af126a button');\n",
              "      quickchartButtonEl.style.display =\n",
              "        google.colab.kernel.accessAllowed ? 'block' : 'none';\n",
              "    })();\n",
              "  </script>\n",
              "</div>\n",
              "\n",
              "    </div>\n",
              "  </div>\n"
            ],
            "application/vnd.google.colaboratory.intrinsic+json": {
              "type": "dataframe",
              "variable_name": "df_nov",
              "summary": "{\n  \"name\": \"df_nov\",\n  \"rows\": 1015,\n  \"fields\": [\n    {\n      \"column\": \"Transaction_ID\",\n      \"properties\": {\n        \"dtype\": \"string\",\n        \"num_unique_values\": 1015,\n        \"samples\": [\n          \"AYLGF\",\n          \"BNPOG\",\n          \"UGCUF\"\n        ],\n        \"semantic_type\": \"\",\n        \"description\": \"\"\n      }\n    },\n    {\n      \"column\": \"Profile ID\",\n      \"properties\": {\n        \"dtype\": \"number\",\n        \"std\": 4817,\n        \"min\": 2,\n        \"max\": 16694,\n        \"num_unique_values\": 1015,\n        \"samples\": [\n          9444,\n          9878,\n          2104\n        ],\n        \"semantic_type\": \"\",\n        \"description\": \"\"\n      }\n    },\n    {\n      \"column\": \"Date_of_Booking\",\n      \"properties\": {\n        \"dtype\": \"number\",\n        \"std\": 8,\n        \"min\": 736999,\n        \"max\": 737028,\n        \"num_unique_values\": 30,\n        \"samples\": [\n          737026,\n          737014,\n          737022\n        ],\n        \"semantic_type\": \"\",\n        \"description\": \"\"\n      }\n    },\n    {\n      \"column\": \"Date_of_Service_Requested\",\n      \"properties\": {\n        \"dtype\": \"number\",\n        \"std\": 8,\n        \"min\": 736999,\n        \"max\": 737033,\n        \"num_unique_values\": 35,\n        \"samples\": [\n          737025,\n          737012,\n          737023\n        ],\n        \"semantic_type\": \"\",\n        \"description\": \"\"\n      }\n    },\n    {\n      \"column\": \"Source\",\n      \"properties\": {\n        \"dtype\": \"category\",\n        \"num_unique_values\": 4,\n        \"samples\": [\n          \"C\",\n          \"A\",\n          \"D\"\n        ],\n        \"semantic_type\": \"\",\n        \"description\": \"\"\n      }\n    },\n    {\n      \"column\": \"Slot of Booking (Hour of the Day)\",\n      \"properties\": {\n        \"dtype\": \"number\",\n        \"std\": 3,\n        \"min\": 6,\n        \"max\": 19,\n        \"num_unique_values\": 14,\n        \"samples\": [\n          8,\n          18,\n          11\n        ],\n        \"semantic_type\": \"\",\n        \"description\": \"\"\n      }\n    },\n    {\n      \"column\": \"Month_of_Booking\",\n      \"properties\": {\n        \"dtype\": \"period[M]\",\n        \"num_unique_values\": 1,\n        \"samples\": [\n          \"2018-11\"\n        ],\n        \"semantic_type\": \"\",\n        \"description\": \"\"\n      }\n    },\n    {\n      \"column\": \"Gap\",\n      \"properties\": {\n        \"dtype\": \"number\",\n        \"std\": 1,\n        \"min\": 0,\n        \"max\": 5,\n        \"num_unique_values\": 6,\n        \"samples\": [\n          1\n        ],\n        \"semantic_type\": \"\",\n        \"description\": \"\"\n      }\n    }\n  ]\n}"
            }
          },
          "metadata": {},
          "execution_count": 44
        }
      ],
      "source": [
        "df_nov['Date_of_Booking'] = df_nov['Date_of_Booking'].map(dt.datetime.toordinal)\n",
        "df_nov['Date_of_Service_Requested'] =df_nov['Date_of_Service_Requested'].map(dt.datetime.toordinal)\n",
        "df_nov['Gap'] = df_nov['Date_of_Service_Requested'] - df_nov['Date_of_Booking']\n",
        "df_nov.head()"
      ]
    },
    {
      "cell_type": "code",
      "execution_count": 45,
      "metadata": {
        "id": "pLuQR0fv8KAf"
      },
      "outputs": [],
      "source": [
        "df_nov = df_nov.loc[:,['Source','Slot of Booking (Hour of the Day)']]"
      ]
    },
    {
      "cell_type": "code",
      "execution_count": 46,
      "metadata": {
        "id": "_3gRBqNY8KAf"
      },
      "outputs": [],
      "source": [
        "df_nov['Slot of Booking (Hour of the Day)'] = df_nov['Slot of Booking (Hour of the Day)'].apply(lambda x: 8 if x<=9 else x)\n",
        "df_nov['Slot of Booking (Hour of the Day)'] = df_nov['Slot of Booking (Hour of the Day)'].apply(lambda x: 11 if (x<13 and x>9) else x)\n",
        "df_nov['Slot of Booking (Hour of the Day)'] = df_nov['Slot of Booking (Hour of the Day)'].apply(lambda x: 14 if x>12 and x<16 else x)\n",
        "df_nov['Slot of Booking (Hour of the Day)'] = df_nov['Slot of Booking (Hour of the Day)'].apply(lambda x: 17 if x>15 else x)"
      ]
    },
    {
      "cell_type": "code",
      "execution_count": 47,
      "metadata": {
        "colab": {
          "base_uri": "https://localhost:8080/",
          "height": 206
        },
        "id": "hTvQPYMi8KAf",
        "outputId": "57c49a4e-9376-4619-e835-90e5de7d7455"
      },
      "outputs": [
        {
          "output_type": "execute_result",
          "data": {
            "text/plain": [
              "       Source  Slot of Booking (Hour of the Day)\n",
              "19980       3                                 11\n",
              "24338       2                                 14\n",
              "7255        2                                 14\n",
              "24386       1                                 14\n",
              "10666       1                                 14"
            ],
            "text/html": [
              "\n",
              "  <div id=\"df-24c2cc71-e8fa-4bc0-8fdb-095770d6ec87\" class=\"colab-df-container\">\n",
              "    <div>\n",
              "<style scoped>\n",
              "    .dataframe tbody tr th:only-of-type {\n",
              "        vertical-align: middle;\n",
              "    }\n",
              "\n",
              "    .dataframe tbody tr th {\n",
              "        vertical-align: top;\n",
              "    }\n",
              "\n",
              "    .dataframe thead th {\n",
              "        text-align: right;\n",
              "    }\n",
              "</style>\n",
              "<table border=\"1\" class=\"dataframe\">\n",
              "  <thead>\n",
              "    <tr style=\"text-align: right;\">\n",
              "      <th></th>\n",
              "      <th>Source</th>\n",
              "      <th>Slot of Booking (Hour of the Day)</th>\n",
              "    </tr>\n",
              "  </thead>\n",
              "  <tbody>\n",
              "    <tr>\n",
              "      <th>19980</th>\n",
              "      <td>3</td>\n",
              "      <td>11</td>\n",
              "    </tr>\n",
              "    <tr>\n",
              "      <th>24338</th>\n",
              "      <td>2</td>\n",
              "      <td>14</td>\n",
              "    </tr>\n",
              "    <tr>\n",
              "      <th>7255</th>\n",
              "      <td>2</td>\n",
              "      <td>14</td>\n",
              "    </tr>\n",
              "    <tr>\n",
              "      <th>24386</th>\n",
              "      <td>1</td>\n",
              "      <td>14</td>\n",
              "    </tr>\n",
              "    <tr>\n",
              "      <th>10666</th>\n",
              "      <td>1</td>\n",
              "      <td>14</td>\n",
              "    </tr>\n",
              "  </tbody>\n",
              "</table>\n",
              "</div>\n",
              "    <div class=\"colab-df-buttons\">\n",
              "\n",
              "  <div class=\"colab-df-container\">\n",
              "    <button class=\"colab-df-convert\" onclick=\"convertToInteractive('df-24c2cc71-e8fa-4bc0-8fdb-095770d6ec87')\"\n",
              "            title=\"Convert this dataframe to an interactive table.\"\n",
              "            style=\"display:none;\">\n",
              "\n",
              "  <svg xmlns=\"http://www.w3.org/2000/svg\" height=\"24px\" viewBox=\"0 -960 960 960\">\n",
              "    <path d=\"M120-120v-720h720v720H120Zm60-500h600v-160H180v160Zm220 220h160v-160H400v160Zm0 220h160v-160H400v160ZM180-400h160v-160H180v160Zm440 0h160v-160H620v160ZM180-180h160v-160H180v160Zm440 0h160v-160H620v160Z\"/>\n",
              "  </svg>\n",
              "    </button>\n",
              "\n",
              "  <style>\n",
              "    .colab-df-container {\n",
              "      display:flex;\n",
              "      gap: 12px;\n",
              "    }\n",
              "\n",
              "    .colab-df-convert {\n",
              "      background-color: #E8F0FE;\n",
              "      border: none;\n",
              "      border-radius: 50%;\n",
              "      cursor: pointer;\n",
              "      display: none;\n",
              "      fill: #1967D2;\n",
              "      height: 32px;\n",
              "      padding: 0 0 0 0;\n",
              "      width: 32px;\n",
              "    }\n",
              "\n",
              "    .colab-df-convert:hover {\n",
              "      background-color: #E2EBFA;\n",
              "      box-shadow: 0px 1px 2px rgba(60, 64, 67, 0.3), 0px 1px 3px 1px rgba(60, 64, 67, 0.15);\n",
              "      fill: #174EA6;\n",
              "    }\n",
              "\n",
              "    .colab-df-buttons div {\n",
              "      margin-bottom: 4px;\n",
              "    }\n",
              "\n",
              "    [theme=dark] .colab-df-convert {\n",
              "      background-color: #3B4455;\n",
              "      fill: #D2E3FC;\n",
              "    }\n",
              "\n",
              "    [theme=dark] .colab-df-convert:hover {\n",
              "      background-color: #434B5C;\n",
              "      box-shadow: 0px 1px 3px 1px rgba(0, 0, 0, 0.15);\n",
              "      filter: drop-shadow(0px 1px 2px rgba(0, 0, 0, 0.3));\n",
              "      fill: #FFFFFF;\n",
              "    }\n",
              "  </style>\n",
              "\n",
              "    <script>\n",
              "      const buttonEl =\n",
              "        document.querySelector('#df-24c2cc71-e8fa-4bc0-8fdb-095770d6ec87 button.colab-df-convert');\n",
              "      buttonEl.style.display =\n",
              "        google.colab.kernel.accessAllowed ? 'block' : 'none';\n",
              "\n",
              "      async function convertToInteractive(key) {\n",
              "        const element = document.querySelector('#df-24c2cc71-e8fa-4bc0-8fdb-095770d6ec87');\n",
              "        const dataTable =\n",
              "          await google.colab.kernel.invokeFunction('convertToInteractive',\n",
              "                                                    [key], {});\n",
              "        if (!dataTable) return;\n",
              "\n",
              "        const docLinkHtml = 'Like what you see? Visit the ' +\n",
              "          '<a target=\"_blank\" href=https://colab.research.google.com/notebooks/data_table.ipynb>data table notebook</a>'\n",
              "          + ' to learn more about interactive tables.';\n",
              "        element.innerHTML = '';\n",
              "        dataTable['output_type'] = 'display_data';\n",
              "        await google.colab.output.renderOutput(dataTable, element);\n",
              "        const docLink = document.createElement('div');\n",
              "        docLink.innerHTML = docLinkHtml;\n",
              "        element.appendChild(docLink);\n",
              "      }\n",
              "    </script>\n",
              "  </div>\n",
              "\n",
              "\n",
              "<div id=\"df-677aac58-3e77-4cc3-a0e7-7631ceee85d2\">\n",
              "  <button class=\"colab-df-quickchart\" onclick=\"quickchart('df-677aac58-3e77-4cc3-a0e7-7631ceee85d2')\"\n",
              "            title=\"Suggest charts\"\n",
              "            style=\"display:none;\">\n",
              "\n",
              "<svg xmlns=\"http://www.w3.org/2000/svg\" height=\"24px\"viewBox=\"0 0 24 24\"\n",
              "     width=\"24px\">\n",
              "    <g>\n",
              "        <path d=\"M19 3H5c-1.1 0-2 .9-2 2v14c0 1.1.9 2 2 2h14c1.1 0 2-.9 2-2V5c0-1.1-.9-2-2-2zM9 17H7v-7h2v7zm4 0h-2V7h2v10zm4 0h-2v-4h2v4z\"/>\n",
              "    </g>\n",
              "</svg>\n",
              "  </button>\n",
              "\n",
              "<style>\n",
              "  .colab-df-quickchart {\n",
              "      --bg-color: #E8F0FE;\n",
              "      --fill-color: #1967D2;\n",
              "      --hover-bg-color: #E2EBFA;\n",
              "      --hover-fill-color: #174EA6;\n",
              "      --disabled-fill-color: #AAA;\n",
              "      --disabled-bg-color: #DDD;\n",
              "  }\n",
              "\n",
              "  [theme=dark] .colab-df-quickchart {\n",
              "      --bg-color: #3B4455;\n",
              "      --fill-color: #D2E3FC;\n",
              "      --hover-bg-color: #434B5C;\n",
              "      --hover-fill-color: #FFFFFF;\n",
              "      --disabled-bg-color: #3B4455;\n",
              "      --disabled-fill-color: #666;\n",
              "  }\n",
              "\n",
              "  .colab-df-quickchart {\n",
              "    background-color: var(--bg-color);\n",
              "    border: none;\n",
              "    border-radius: 50%;\n",
              "    cursor: pointer;\n",
              "    display: none;\n",
              "    fill: var(--fill-color);\n",
              "    height: 32px;\n",
              "    padding: 0;\n",
              "    width: 32px;\n",
              "  }\n",
              "\n",
              "  .colab-df-quickchart:hover {\n",
              "    background-color: var(--hover-bg-color);\n",
              "    box-shadow: 0 1px 2px rgba(60, 64, 67, 0.3), 0 1px 3px 1px rgba(60, 64, 67, 0.15);\n",
              "    fill: var(--button-hover-fill-color);\n",
              "  }\n",
              "\n",
              "  .colab-df-quickchart-complete:disabled,\n",
              "  .colab-df-quickchart-complete:disabled:hover {\n",
              "    background-color: var(--disabled-bg-color);\n",
              "    fill: var(--disabled-fill-color);\n",
              "    box-shadow: none;\n",
              "  }\n",
              "\n",
              "  .colab-df-spinner {\n",
              "    border: 2px solid var(--fill-color);\n",
              "    border-color: transparent;\n",
              "    border-bottom-color: var(--fill-color);\n",
              "    animation:\n",
              "      spin 1s steps(1) infinite;\n",
              "  }\n",
              "\n",
              "  @keyframes spin {\n",
              "    0% {\n",
              "      border-color: transparent;\n",
              "      border-bottom-color: var(--fill-color);\n",
              "      border-left-color: var(--fill-color);\n",
              "    }\n",
              "    20% {\n",
              "      border-color: transparent;\n",
              "      border-left-color: var(--fill-color);\n",
              "      border-top-color: var(--fill-color);\n",
              "    }\n",
              "    30% {\n",
              "      border-color: transparent;\n",
              "      border-left-color: var(--fill-color);\n",
              "      border-top-color: var(--fill-color);\n",
              "      border-right-color: var(--fill-color);\n",
              "    }\n",
              "    40% {\n",
              "      border-color: transparent;\n",
              "      border-right-color: var(--fill-color);\n",
              "      border-top-color: var(--fill-color);\n",
              "    }\n",
              "    60% {\n",
              "      border-color: transparent;\n",
              "      border-right-color: var(--fill-color);\n",
              "    }\n",
              "    80% {\n",
              "      border-color: transparent;\n",
              "      border-right-color: var(--fill-color);\n",
              "      border-bottom-color: var(--fill-color);\n",
              "    }\n",
              "    90% {\n",
              "      border-color: transparent;\n",
              "      border-bottom-color: var(--fill-color);\n",
              "    }\n",
              "  }\n",
              "</style>\n",
              "\n",
              "  <script>\n",
              "    async function quickchart(key) {\n",
              "      const quickchartButtonEl =\n",
              "        document.querySelector('#' + key + ' button');\n",
              "      quickchartButtonEl.disabled = true;  // To prevent multiple clicks.\n",
              "      quickchartButtonEl.classList.add('colab-df-spinner');\n",
              "      try {\n",
              "        const charts = await google.colab.kernel.invokeFunction(\n",
              "            'suggestCharts', [key], {});\n",
              "      } catch (error) {\n",
              "        console.error('Error during call to suggestCharts:', error);\n",
              "      }\n",
              "      quickchartButtonEl.classList.remove('colab-df-spinner');\n",
              "      quickchartButtonEl.classList.add('colab-df-quickchart-complete');\n",
              "    }\n",
              "    (() => {\n",
              "      let quickchartButtonEl =\n",
              "        document.querySelector('#df-677aac58-3e77-4cc3-a0e7-7631ceee85d2 button');\n",
              "      quickchartButtonEl.style.display =\n",
              "        google.colab.kernel.accessAllowed ? 'block' : 'none';\n",
              "    })();\n",
              "  </script>\n",
              "</div>\n",
              "\n",
              "    </div>\n",
              "  </div>\n"
            ],
            "application/vnd.google.colaboratory.intrinsic+json": {
              "type": "dataframe",
              "variable_name": "df_nov",
              "summary": "{\n  \"name\": \"df_nov\",\n  \"rows\": 1015,\n  \"fields\": [\n    {\n      \"column\": \"Source\",\n      \"properties\": {\n        \"dtype\": \"number\",\n        \"std\": 1,\n        \"min\": 0,\n        \"max\": 3,\n        \"num_unique_values\": 4,\n        \"samples\": [\n          2,\n          0,\n          3\n        ],\n        \"semantic_type\": \"\",\n        \"description\": \"\"\n      }\n    },\n    {\n      \"column\": \"Slot of Booking (Hour of the Day)\",\n      \"properties\": {\n        \"dtype\": \"number\",\n        \"std\": 2,\n        \"min\": 8,\n        \"max\": 17,\n        \"num_unique_values\": 4,\n        \"samples\": [\n          14,\n          8,\n          11\n        ],\n        \"semantic_type\": \"\",\n        \"description\": \"\"\n      }\n    }\n  ]\n}"
            }
          },
          "metadata": {},
          "execution_count": 47
        }
      ],
      "source": [
        "df_nov['Source'] = number.fit_transform(df_nov['Source'].astype('str'))\n",
        "df_nov.head()"
      ]
    },
    {
      "cell_type": "code",
      "execution_count": 48,
      "metadata": {
        "colab": {
          "base_uri": "https://localhost:8080/"
        },
        "id": "XuL9MVVZ8KAf",
        "outputId": "999be177-8f41-437e-d31d-94eb21cb762a"
      },
      "outputs": [
        {
          "output_type": "stream",
          "name": "stdout",
          "text": [
            "[1 1 1 ... 1 1 1]\n",
            "[0 1]\n"
          ]
        }
      ],
      "source": [
        "print(logisticRegr.predict(df_nov))\n",
        "a = logisticRegr.predict(df_nov)\n",
        "unique_elements, counts_elements = np.unique(a, return_counts=True)\n",
        "print(unique_elements)"
      ]
    },
    {
      "cell_type": "code",
      "execution_count": 49,
      "metadata": {
        "id": "tB560e008KAf"
      },
      "outputs": [],
      "source": [
        "predictions_nov = dict(zip(unique_elements, counts_elements))"
      ]
    },
    {
      "cell_type": "code",
      "execution_count": 50,
      "metadata": {
        "colab": {
          "base_uri": "https://localhost:8080/"
        },
        "id": "A-KBaKTA8KAg",
        "outputId": "d3f4b075-e8d6-42c8-def5-e5a3d3593598"
      },
      "outputs": [
        {
          "output_type": "execute_result",
          "data": {
            "text/plain": [
              "{0: 499, 1: 516}"
            ]
          },
          "metadata": {},
          "execution_count": 50
        }
      ],
      "source": [
        "predictions_nov"
      ]
    },
    {
      "cell_type": "code",
      "execution_count": 51,
      "metadata": {
        "colab": {
          "base_uri": "https://localhost:8080/",
          "height": 482
        },
        "id": "Dg4RBJ9r8KAg",
        "outputId": "bc92ed46-06f8-42b7-8560-b4b2fdaf1a7d"
      },
      "outputs": [
        {
          "output_type": "execute_result",
          "data": {
            "text/plain": [
              "([<matplotlib.axis.XTick at 0x7937396ef5b0>,\n",
              "  <matplotlib.axis.XTick at 0x7937396ef580>],\n",
              " [Text(0, 0, '0'), Text(1, 0, '1')])"
            ]
          },
          "metadata": {},
          "execution_count": 51
        },
        {
          "output_type": "display_data",
          "data": {
            "text/plain": [
              "<Figure size 640x480 with 1 Axes>"
            ],
            "image/png": "[encoded data removed]"
          },
          "metadata": {}
        }
      ],
      "source": [
        "plt.bar(predictions_nov.keys(),predictions_nov.values(), width=0.6)\n",
        "plt.xticks(np.arange(2))"
      ]
    },
    {
      "cell_type": "markdown",
      "metadata": {
        "id": "ZbhzXR9m8KAh"
      },
      "source": [
        "### Result : 283 first time customers ordering within 90 days of first order predicted for Nov 2018"
      ]
    },
    {
      "cell_type": "code",
      "execution_count": 52,
      "metadata": {
        "id": "NVaXsY9O8KAh"
      },
      "outputs": [],
      "source": [
        "import datetime\n",
        "df1 = df_sorted\n",
        "df1['Day_of_week'] = df1['Date_of_Service_Requested'].apply(lambda x: x.strftime('%A'))"
      ]
    },
    {
      "cell_type": "code",
      "execution_count": 53,
      "metadata": {
        "colab": {
          "base_uri": "https://localhost:8080/"
        },
        "id": "yAP0qFO58KAh",
        "outputId": "d6c9fe38-e5c7-43a4-9e0c-6e9cbb4a51a8"
      },
      "outputs": [
        {
          "output_type": "execute_result",
          "data": {
            "text/plain": [
              "array(['Sunday', 'Wednesday', 'Saturday', 'Friday', 'Tuesday', 'Monday',\n",
              "       'Thursday'], dtype=object)"
            ]
          },
          "metadata": {},
          "execution_count": 53
        }
      ],
      "source": [
        "df1['Day_of_week'].unique()"
      ]
    },
    {
      "cell_type": "code",
      "execution_count": 54,
      "metadata": {
        "colab": {
          "base_uri": "https://localhost:8080/"
        },
        "id": "vdz4d4pW8KAh",
        "outputId": "cf98966d-0e41-4e36-80cd-5e90d8c09b0c"
      },
      "outputs": [
        {
          "output_type": "execute_result",
          "data": {
            "text/plain": [
              "Day_of_week\n",
              "Saturday     4575\n",
              "Sunday       4548\n",
              "Thursday     4430\n",
              "Wednesday    4383\n",
              "Friday       4382\n",
              "Tuesday      4354\n",
              "Monday       4268\n",
              "Name: count, dtype: int64"
            ]
          },
          "metadata": {},
          "execution_count": 54
        }
      ],
      "source": [
        "df1['Day_of_week'].value_counts()"
      ]
    },
    {
      "cell_type": "code",
      "execution_count": 55,
      "metadata": {
        "colab": {
          "base_uri": "https://localhost:8080/"
        },
        "id": "ZRLeU8SO8KAh",
        "outputId": "d915eaf4-6b95-477e-f53d-2d9d0bbbbf03"
      },
      "outputs": [
        {
          "output_type": "execute_result",
          "data": {
            "text/plain": [
              "1.0719306466729148"
            ]
          },
          "metadata": {},
          "execution_count": 55
        }
      ],
      "source": [
        "len(df1[df1['Day_of_week']=='Saturday'])/len(df1[df1['Day_of_week']=='Monday'])"
      ]
    },
    {
      "cell_type": "markdown",
      "metadata": {
        "id": "P_mdFmIE8KAi"
      },
      "source": [
        "## Number of Services Requested for Saturday are on average 7% more than for Mondays"
      ]
    },
    {
      "cell_type": "code",
      "execution_count": 56,
      "metadata": {
        "id": "bcl2A8p38KAi"
      },
      "outputs": [],
      "source": [
        "df1['Slot of Booking (Hour of the Day)'] = df1['Slot of Booking (Hour of the Day)'].apply(lambda x: 8 if x<9 else x)\n",
        "df1['Slot of Booking (Hour of the Day)'] = df1['Slot of Booking (Hour of the Day)'].apply(lambda x: 11 if (x<13 and x>=9) else x)\n",
        "df1['Slot of Booking (Hour of the Day)'] = df1['Slot of Booking (Hour of the Day)'].apply(lambda x: 14 if x>12 and x<=16 else x)\n",
        "df1['Slot of Booking (Hour of the Day)'] = df1['Slot of Booking (Hour of the Day)'].apply(lambda x: 17 if x>=17 else x)"
      ]
    },
    {
      "cell_type": "code",
      "execution_count": 57,
      "metadata": {
        "colab": {
          "base_uri": "https://localhost:8080/"
        },
        "id": "v6WniSSV8KAi",
        "outputId": "c89e3d7d-d393-4bd7-c529-fe25a188e566"
      },
      "outputs": [
        {
          "output_type": "execute_result",
          "data": {
            "text/plain": [
              "Slot of Booking (Hour of the Day)\n",
              "14    18057\n",
              "11     5226\n",
              "17     3914\n",
              "8      3743\n",
              "Name: count, dtype: int64"
            ]
          },
          "metadata": {},
          "execution_count": 57
        }
      ],
      "source": [
        "df1['Slot of Booking (Hour of the Day)'].value_counts()"
      ]
    },
    {
      "cell_type": "code",
      "execution_count": 58,
      "metadata": {
        "id": "A8cppK1K8KAi"
      },
      "outputs": [],
      "source": [
        "A = df1['Slot of Booking (Hour of the Day)'][~df1['Day_of_week'].isin(['Saturday','Sunday']) ]"
      ]
    },
    {
      "cell_type": "code",
      "execution_count": 59,
      "metadata": {
        "id": "VckH9ata8KAi"
      },
      "outputs": [],
      "source": [
        "B = A[A.isin([8,17])]"
      ]
    },
    {
      "cell_type": "code",
      "execution_count": 60,
      "metadata": {
        "colab": {
          "base_uri": "https://localhost:8080/"
        },
        "id": "VHITn4Ol8KAi",
        "outputId": "184e29d8-29ee-4717-fa1d-94112b54ac91"
      },
      "outputs": [
        {
          "output_type": "execute_result",
          "data": {
            "text/plain": [
              "0.7507448320117339"
            ]
          },
          "metadata": {},
          "execution_count": 60
        }
      ],
      "source": [
        "(A.count()-B.count())/A.count()"
      ]
    },
    {
      "cell_type": "markdown",
      "metadata": {
        "id": "tgprC8Sk8KAj"
      },
      "source": [
        "## 66% of services requested during the weekdays were during working hours i.e between 9am - 4pm"
      ]
    },
    {
      "cell_type": "code",
      "execution_count": 61,
      "metadata": {
        "colab": {
          "base_uri": "https://localhost:8080/"
        },
        "id": "neOKwfs68KAj",
        "outputId": "add8b786-25e7-4bdc-d11c-b9ea00eba4e7"
      },
      "outputs": [
        {
          "output_type": "execute_result",
          "data": {
            "text/plain": [
              "0.5293794440853264"
            ]
          },
          "metadata": {},
          "execution_count": 61
        }
      ],
      "source": [
        "(A.count()-B.count())/len(df1)"
      ]
    },
    {
      "cell_type": "markdown",
      "metadata": {
        "id": "r5u8GBdN8KAl"
      },
      "source": [
        "## 47% of all bookings are for working hours during the weekdays"
      ]
    },
    {
      "cell_type": "code",
      "execution_count": 62,
      "metadata": {
        "colab": {
          "base_uri": "https://localhost:8080/"
        },
        "id": "rqJ3vUts8KAm",
        "outputId": "3f3c4603-c7ff-4a4f-b16f-fe18ca49add7"
      },
      "outputs": [
        {
          "output_type": "execute_result",
          "data": {
            "text/plain": [
              "0.2948610213316096"
            ]
          },
          "metadata": {},
          "execution_count": 62
        }
      ],
      "source": [
        "A = df1['Slot of Booking (Hour of the Day)'][df1['Day_of_week'].isin(['Saturday','Sunday']) ]\n",
        "A.count()/len(df1)"
      ]
    },
    {
      "cell_type": "code",
      "execution_count": 63,
      "metadata": {
        "colab": {
          "base_uri": "https://localhost:8080/"
        },
        "id": "1tsYCU_Y8KAm",
        "outputId": "db76b2b8-3cd4-4b78-b060-a3c180736a1d"
      },
      "outputs": [
        {
          "output_type": "execute_result",
          "data": {
            "text/plain": [
              "0.009146735617323876"
            ]
          },
          "metadata": {},
          "execution_count": 63
        }
      ],
      "source": [
        "(A.count()/len(df1)) - (2/7)"
      ]
    },
    {
      "cell_type": "code",
      "execution_count": 64,
      "metadata": {
        "colab": {
          "base_uri": "https://localhost:8080/"
        },
        "id": "Ujr91L3M8KAm",
        "outputId": "c0abd22f-d425-47bd-cbb4-706815804d27"
      },
      "outputs": [
        {
          "output_type": "execute_result",
          "data": {
            "text/plain": [
              "58.36134453781513"
            ]
          },
          "metadata": {},
          "execution_count": 64
        }
      ],
      "source": [
        "len(df1[df1['Slot of Booking (Hour of the Day)']==14])/len(df1) * 100"
      ]
    }
  ],
  "metadata": {
    "kernelspec": {
      "display_name": "Python 3",
      "language": "python",
      "name": "python3"
    },
    "language_info": {
      "codemirror_mode": {
        "name": "ipython",
        "version": 3
      },
      "file_extension": ".py",
      "mimetype": "text/x-python",
      "name": "python",
      "nbconvert_exporter": "python",
      "pygments_lexer": "ipython3",
      "version": "3.6.5"
    },
    "colab": {
      "provenance": []
    }
  },
  "nbformat": 4,
  "nbformat_minor": 0
}